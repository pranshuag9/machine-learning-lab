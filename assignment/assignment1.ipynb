{
 "cells": [
  {
   "cell_type": "markdown",
   "metadata": {},
   "source": [
    "**Q1. Create a program that asks the user to enter their name and their age. Print out a message addressed to them that tells them the year that they will turn 100 years old.**\n",
    "\n",
    "Extras:\n",
    "1. Add on to the previous program by asking the user for another number and\n",
    "printing out that many copies of the previous message.\n",
    "2. Print out that many copies of the previous message on separate lines. (Hint:\n",
    "the string \"\\n is the same as pressing the ENTER button)"
   ]
  },
  {
   "cell_type": "code",
   "execution_count": 1,
   "metadata": {},
   "outputs": [
    {
     "name": "stdout",
     "output_type": "stream",
     "text": [
      "Enter your name: Pranshu Aggarwal\n",
      "Enter your age: 21\n",
      "Enter a number: 3\n",
      "Hey Pranshu Aggarwal, 79 years left to reach 100..\n",
      "Hey Pranshu Aggarwal, 79 years left to reach 100..\n",
      "Hey Pranshu Aggarwal, 79 years left to reach 100..\n"
     ]
    }
   ],
   "source": [
    "name = input(\"Enter your name: \")\n",
    "age = int(input(\"Enter your age: \"))\n",
    "num = int(input(\"Enter a number: \"))\n",
    "if age > 0:\n",
    "    if age > 100: print(\"Congratulations {name}! You have already crossed 100.\")\n",
    "    else:\n",
    "        for i in range(num): print(f\"Hey {name}, {100-age} years left to reach 100..\\n\", end='')\n",
    "else: print(\"Invalid input!\")"
   ]
  },
  {
   "cell_type": "markdown",
   "metadata": {},
   "source": [
    "**Q2. Take a list, say for example this one:**\n",
    "- a = [1, 1, 2, 3, 5, 8, 13, 21, 34, 55, 89]\n",
    "\n",
    "**and write a program that prints out all the elements of the list that are less than 5.**\n",
    "\n",
    "Extras:\n",
    "1. Instead of printing the elements one by one, make a new list that has all the\n",
    "elements less than 5 from this list in it and print out this new list.\n",
    "2. Write this in one line of Python.\n",
    "3. Ask the user for a number and return a list that contains only elements from the\n",
    "original list a that are smaller than that number given by the user.\n",
    "\n",
    "Main Program:"
   ]
  },
  {
   "cell_type": "code",
   "execution_count": 2,
   "metadata": {},
   "outputs": [
    {
     "name": "stdout",
     "output_type": "stream",
     "text": [
      "1 1 2 3 "
     ]
    }
   ],
   "source": [
    "a = [1, 1, 2, 3, 5, 8, 13, 21, 34, 55, 89]\n",
    "for i in a:\n",
    "    if i < 5: print(f\"{i} \", end='')"
   ]
  },
  {
   "cell_type": "markdown",
   "metadata": {},
   "source": [
    "Extras 1 and 2 Program:"
   ]
  },
  {
   "cell_type": "code",
   "execution_count": 3,
   "metadata": {},
   "outputs": [
    {
     "name": "stdout",
     "output_type": "stream",
     "text": [
      "[1, 1, 2, 3]\n"
     ]
    }
   ],
   "source": [
    "print([i for i in a if i < 5])"
   ]
  },
  {
   "cell_type": "markdown",
   "metadata": {},
   "source": [
    "Extras 3 Program:"
   ]
  },
  {
   "cell_type": "code",
   "execution_count": 4,
   "metadata": {},
   "outputs": [
    {
     "name": "stdout",
     "output_type": "stream",
     "text": [
      "Enter a number : 30\n",
      "[1, 1, 2, 3, 5, 8, 13, 21]\n"
     ]
    }
   ],
   "source": [
    "n = int(input(\"Enter a number : \"))\n",
    "print([i for i in a if i < n])"
   ]
  },
  {
   "cell_type": "markdown",
   "metadata": {},
   "source": [
    "**Q3. Write a program that asks the user how many Fibonacci numbers to generate and then generates them.**\n",
    "\n",
    "1. Take this opportunity to think about how you can use functions. \n",
    "2. Make sure to ask the user to enter the number of numbers in the sequence to generate.\n",
    "\n",
    "(Hint: The Fibonacci seqence is a sequence of numbers where the next number in the sequence is the sum of the previous two numbers in the sequence. The sequence looks like this: 1, 1, 2, 3, 5, 8, 13, ...)"
   ]
  },
  {
   "cell_type": "code",
   "execution_count": 5,
   "metadata": {
    "scrolled": true
   },
   "outputs": [
    {
     "name": "stdout",
     "output_type": "stream",
     "text": [
      "How many fibonacci numbers to generate? Enter a number: 10\n",
      "[0, 1, 1, 2, 3, 5, 8, 13, 21, 34]\n"
     ]
    }
   ],
   "source": [
    "def fib(n):\n",
    "    fibs = [0, 1]\n",
    "    for i in range(2, n): fibs.append(fibs[i - 1] + fibs[i - 2])\n",
    "    return fibs\n",
    "n = int(input(\"How many fibonacci numbers to generate? Enter a number: \"))\n",
    "print(fib(n))"
   ]
  },
  {
   "cell_type": "markdown",
   "metadata": {},
   "source": [
    "**Q4. Write a program (function!) that takes a list and returns a new list that contains all the\n",
    "elements of the first list minus all the duplicates.**\n",
    "\n",
    "Extras:\n",
    "\n",
    "- Write two different functions to do this - one using a loop and constructing a list, and another using sets.\n",
    "\n",
    "Main Program:"
   ]
  },
  {
   "cell_type": "code",
   "execution_count": 6,
   "metadata": {
    "scrolled": true
   },
   "outputs": [
    {
     "name": "stdout",
     "output_type": "stream",
     "text": [
      "[1, 2, 3, 5, 8, 13, 21, 34, 55, 89]\n"
     ]
    }
   ],
   "source": [
    "# Using loop with change in order\n",
    "def remove_duplicates_using_loop(lst):\n",
    "    new_list = []\n",
    "    for i in lst:\n",
    "        if i not in new_list: new_list.append(i)\n",
    "    return new_list\n",
    "\n",
    "a = [1, 1, 2, 3, 5, 8, 8, 13, 21, 34, 34, 55, 89]\n",
    "print(remove_duplicates_using_loop(a))"
   ]
  },
  {
   "cell_type": "markdown",
   "metadata": {},
   "source": [
    "Extras Program:"
   ]
  },
  {
   "cell_type": "code",
   "execution_count": 7,
   "metadata": {},
   "outputs": [
    {
     "name": "stdout",
     "output_type": "stream",
     "text": [
      "[1, 2, 3, 34, 5, 8, 13, 21, 55, 89]\n"
     ]
    }
   ],
   "source": [
    "# Using set but order changes\n",
    "def remove_duplicates_using_set(lst):\n",
    "    return list(set(lst))\n",
    "\n",
    "a = [1, 1, 2, 3, 5, 8, 8, 13, 21, 34, 34, 55, 89]\n",
    "print(remove_duplicates_using_set(a))"
   ]
  },
  {
   "cell_type": "markdown",
   "metadata": {},
   "source": [
    "**Q5. Ask the user for a number and determine whether the number is prime or not. (For those who have forgotten, a prime number is a number that has no divisors.). Use functions**"
   ]
  },
  {
   "cell_type": "code",
   "execution_count": 8,
   "metadata": {},
   "outputs": [
    {
     "name": "stdout",
     "output_type": "stream",
     "text": [
      "Enter a number: 15\n",
      "15 is not prime\n"
     ]
    }
   ],
   "source": [
    "def isPrime(n):\n",
    "    if n == 2: return True\n",
    "    if n % 2 == 0: return False\n",
    "    for i in range(3, int(n**0.5) + 1, 2):\n",
    "        if n % i == 0: return False\n",
    "    return True\n",
    "\n",
    "n = int(input(\"Enter a number: \"))\n",
    "print(f\"{n} is {'prime' if isPrime(n) else 'not prime'}\")"
   ]
  },
  {
   "cell_type": "code",
   "execution_count": null,
   "metadata": {},
   "outputs": [],
   "source": []
  }
 ],
 "metadata": {
  "kernelspec": {
   "display_name": "Python 3",
   "language": "python",
   "name": "python3"
  },
  "language_info": {
   "codemirror_mode": {
    "name": "ipython",
    "version": 3
   },
   "file_extension": ".py",
   "mimetype": "text/x-python",
   "name": "python",
   "nbconvert_exporter": "python",
   "pygments_lexer": "ipython3",
   "version": "3.7.4"
  }
 },
 "nbformat": 4,
 "nbformat_minor": 4
}
