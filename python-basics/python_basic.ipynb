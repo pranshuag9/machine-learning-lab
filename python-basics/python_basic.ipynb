{
  "nbformat": 4,
  "nbformat_minor": 0,
  "metadata": {
    "kernelspec": {
      "display_name": "Python 3",
      "language": "python",
      "name": "python3"
    },
    "language_info": {
      "codemirror_mode": {
        "name": "ipython",
        "version": 3
      },
      "file_extension": ".py",
      "mimetype": "text/x-python",
      "name": "python",
      "nbconvert_exporter": "python",
      "pygments_lexer": "ipython3",
      "version": "3.8.5"
    },
    "colab": {
      "name": "python_basic.ipynb",
      "provenance": []
    }
  },
  "cells": [
    {
      "cell_type": "markdown",
      "metadata": {
        "id": "B6g_31aoGVoO"
      },
      "source": [
        "This is beginning of Python basics programming\n",
        "\n",
        "Comments can be used to explain Python code.\n",
        "\n",
        "Comments can be used to make the code more readable.\n",
        "\n",
        "Comments can be used to prevent execution when testing code."
      ]
    },
    {
      "cell_type": "code",
      "metadata": {
        "id": "VvAhIGPLGVoX",
        "outputId": "9952bffa-058f-456b-a3d5-4e24f095d92e"
      },
      "source": [
        "#first python program\n",
        "print(\"hello, world\")\n"
      ],
      "execution_count": null,
      "outputs": [
        {
          "output_type": "stream",
          "text": [
            "hello, world\n"
          ],
          "name": "stdout"
        }
      ]
    },
    {
      "cell_type": "code",
      "metadata": {
        "scrolled": true,
        "id": "OUhFBvIYGVoa",
        "outputId": "0220a240-d5a2-414c-8282-29e90236750b"
      },
      "source": [
        "print(67+90)"
      ],
      "execution_count": null,
      "outputs": [
        {
          "output_type": "stream",
          "text": [
            "157\n"
          ],
          "name": "stdout"
        }
      ]
    },
    {
      "cell_type": "code",
      "metadata": {
        "id": "KnNHiuk3GVoa",
        "outputId": "8a69af11-6c56-4e30-fb39-cfef47fba427"
      },
      "source": [
        "67+90"
      ],
      "execution_count": null,
      "outputs": [
        {
          "output_type": "execute_result",
          "data": {
            "text/plain": [
              "157"
            ]
          },
          "metadata": {
            "tags": []
          },
          "execution_count": 5
        }
      ]
    },
    {
      "cell_type": "code",
      "metadata": {
        "id": "X4gT3azdGVob",
        "outputId": "d3e93644-c6e4-48f4-a4b6-749d19f9177d"
      },
      "source": [
        "\"Hina Firdaus\""
      ],
      "execution_count": null,
      "outputs": [
        {
          "output_type": "execute_result",
          "data": {
            "text/plain": [
              "'Hina Firdau'"
            ]
          },
          "metadata": {
            "tags": []
          },
          "execution_count": 6
        }
      ]
    },
    {
      "cell_type": "code",
      "metadata": {
        "id": "TkSn1yRXGVoc",
        "outputId": "12306963-8af3-442d-890f-31e816ab3916"
      },
      "source": [
        "print(\"hi, this me hina\", 56+90)"
      ],
      "execution_count": null,
      "outputs": [
        {
          "output_type": "stream",
          "text": [
            "hi, this me hina 146\n"
          ],
          "name": "stdout"
        }
      ]
    },
    {
      "cell_type": "markdown",
      "metadata": {
        "id": "zRdpZ5gdGVoc"
      },
      "source": [
        "multiline string\n",
        "\n",
        "Since Python will ignore string literals that are not assigned to a variable, you can add a multiline string (triple quotes) in your code, and place your comment inside it:"
      ]
    },
    {
      "cell_type": "code",
      "metadata": {
        "id": "8b_S1sS9GVod",
        "outputId": "ba0849aa-cac9-46d4-91ed-c338655c0f52"
      },
      "source": [
        "\"\"\"\n",
        "This is a comment\n",
        "written in\n",
        "more than just one line\n",
        "\"\"\"\n",
        "print(\"Hello, World!\")\n"
      ],
      "execution_count": null,
      "outputs": [
        {
          "output_type": "stream",
          "text": [
            "Hello, World!\n"
          ],
          "name": "stdout"
        }
      ]
    },
    {
      "cell_type": "markdown",
      "metadata": {
        "id": "GG4rinVEGVoe"
      },
      "source": [
        "Python Operators:\n",
        "\n",
        "Operators are used to perform operations on variables and values.\n",
        "\n",
        "In the example below, we use the + operator to add together two values:"
      ]
    },
    {
      "cell_type": "code",
      "metadata": {
        "id": "FSP8JC5LGVof",
        "outputId": "3be58cd4-766a-4021-e176-ec44969be3c5"
      },
      "source": [
        "2+2"
      ],
      "execution_count": null,
      "outputs": [
        {
          "output_type": "execute_result",
          "data": {
            "text/plain": [
              "4"
            ]
          },
          "metadata": {
            "tags": []
          },
          "execution_count": 2
        }
      ]
    },
    {
      "cell_type": "code",
      "metadata": {
        "scrolled": true,
        "id": "7qPn-M7WGVog",
        "outputId": "bb9b3313-9cb3-4a77-aaea-2f06522cb6e8"
      },
      "source": [
        "56+90/78*66%3-23-900"
      ],
      "execution_count": null,
      "outputs": [
        {
          "output_type": "execute_result",
          "data": {
            "text/plain": [
              "-865.8461538461538"
            ]
          },
          "metadata": {
            "tags": []
          },
          "execution_count": 11
        }
      ]
    },
    {
      "cell_type": "code",
      "metadata": {
        "id": "1jzcu1_hGVoh",
        "outputId": "71771587-6f9e-4192-8ef5-45042812fd7b"
      },
      "source": [
        "89.6667678/78.5+23456895*23-900000000000000000000"
      ],
      "execution_count": null,
      "outputs": [
        {
          "output_type": "execute_result",
          "data": {
            "text/plain": [
              "-8.999999999994605e+20"
            ]
          },
          "metadata": {
            "tags": []
          },
          "execution_count": 12
        }
      ]
    },
    {
      "cell_type": "code",
      "metadata": {
        "scrolled": true,
        "id": "QfnQLi-_GVoh",
        "outputId": "3e9168ab-576b-4c6a-bd11-ea5eddd0d83b"
      },
      "source": [
        "\"a\"+ \"b\""
      ],
      "execution_count": null,
      "outputs": [
        {
          "output_type": "execute_result",
          "data": {
            "text/plain": [
              "'ab'"
            ]
          },
          "metadata": {
            "tags": []
          },
          "execution_count": 2
        }
      ]
    },
    {
      "cell_type": "code",
      "metadata": {
        "id": "jevNtHfSGVoi",
        "outputId": "4f20b6bf-bfb8-4012-8272-994b494d8f28"
      },
      "source": [
        "23333+9999\n"
      ],
      "execution_count": null,
      "outputs": [
        {
          "output_type": "execute_result",
          "data": {
            "text/plain": [
              "33332"
            ]
          },
          "metadata": {
            "tags": []
          },
          "execution_count": 3
        }
      ]
    },
    {
      "cell_type": "markdown",
      "metadata": {
        "id": "EMFQ6T9_GVoj"
      },
      "source": [
        "Python divides the operators in the following groups:\n",
        "\n",
        "Arithmetic operators\n",
        "\n",
        "Assignment operators\n",
        "\n",
        "Comparison operators\n",
        "\n",
        "Logical operators\n",
        "\n",
        "Identity operators\n",
        "\n",
        "Membership operators\n",
        "\n",
        "Bitwise operators"
      ]
    },
    {
      "cell_type": "code",
      "metadata": {
        "id": "N-BxHySyGVok",
        "outputId": "c52537aa-02b7-4cab-c4ff-78236b06d481"
      },
      "source": [
        "50 - 5*6"
      ],
      "execution_count": null,
      "outputs": [
        {
          "output_type": "execute_result",
          "data": {
            "text/plain": [
              "20"
            ]
          },
          "metadata": {
            "tags": []
          },
          "execution_count": 10
        }
      ]
    },
    {
      "cell_type": "code",
      "metadata": {
        "id": "T3t_R2T9GVok",
        "outputId": "8297ad43-d942-474b-994c-3dfcb9b163d0"
      },
      "source": [
        "(50 - 5*6) / 4"
      ],
      "execution_count": null,
      "outputs": [
        {
          "output_type": "execute_result",
          "data": {
            "text/plain": [
              "5.0"
            ]
          },
          "metadata": {
            "tags": []
          },
          "execution_count": 11
        }
      ]
    },
    {
      "cell_type": "code",
      "metadata": {
        "id": "zzS3tVLZGVol",
        "outputId": "6649c4cf-9099-4f82-e03f-1bddf604ee81"
      },
      "source": [
        "45/2-90*65/11+145 * 1.3*24//12"
      ],
      "execution_count": null,
      "outputs": [
        {
          "output_type": "execute_result",
          "data": {
            "text/plain": [
              "-132.31818181818187"
            ]
          },
          "metadata": {
            "tags": []
          },
          "execution_count": 4
        }
      ]
    },
    {
      "cell_type": "code",
      "metadata": {
        "id": "6zUte-MsGVom",
        "outputId": "7b5fd0e4-b439-465e-8fcc-438417cdc517"
      },
      "source": [
        " 8 / 5  # division always returns a floating point number"
      ],
      "execution_count": null,
      "outputs": [
        {
          "output_type": "execute_result",
          "data": {
            "text/plain": [
              "1.6"
            ]
          },
          "metadata": {
            "tags": []
          },
          "execution_count": 12
        }
      ]
    },
    {
      "cell_type": "code",
      "metadata": {
        "id": "18Kt8NYKGVom",
        "outputId": "84fa890c-c61d-448d-85a1-c7001bda2afa"
      },
      "source": [
        "17 / 3  # classic division returns a float"
      ],
      "execution_count": null,
      "outputs": [
        {
          "output_type": "execute_result",
          "data": {
            "text/plain": [
              "5.666666666666667"
            ]
          },
          "metadata": {
            "tags": []
          },
          "execution_count": 13
        }
      ]
    },
    {
      "cell_type": "code",
      "metadata": {
        "id": "oU3Rq7f_GVon",
        "outputId": "ed473d8b-9c10-4320-f3ac-6ed3d447320f"
      },
      "source": [
        "17 // 3  # floor division discards the fractional part"
      ],
      "execution_count": null,
      "outputs": [
        {
          "output_type": "execute_result",
          "data": {
            "text/plain": [
              "5"
            ]
          },
          "metadata": {
            "tags": []
          },
          "execution_count": 14
        }
      ]
    },
    {
      "cell_type": "code",
      "metadata": {
        "id": "gAqh4rZ8GVoo",
        "outputId": "73de0b4f-6304-4e4d-eec3-38016ed0a2a0"
      },
      "source": [
        " 17 % 3  # the % operator returns the remainder of the division"
      ],
      "execution_count": null,
      "outputs": [
        {
          "output_type": "execute_result",
          "data": {
            "text/plain": [
              "2"
            ]
          },
          "metadata": {
            "tags": []
          },
          "execution_count": 15
        }
      ]
    },
    {
      "cell_type": "code",
      "metadata": {
        "id": "S2geMc22GVoo",
        "outputId": "150eee8f-bc49-4a60-c3d0-f21c8b58c0ae"
      },
      "source": [
        "17/3"
      ],
      "execution_count": null,
      "outputs": [
        {
          "output_type": "execute_result",
          "data": {
            "text/plain": [
              "5.666666666666667"
            ]
          },
          "metadata": {
            "tags": []
          },
          "execution_count": 20
        }
      ]
    },
    {
      "cell_type": "code",
      "metadata": {
        "id": "YXxkWE0sGVop",
        "outputId": "d67bd98b-a340-4978-d7d5-3c061c7faad2"
      },
      "source": [
        " 5 * 3 + 2  # result * divisor + remainder"
      ],
      "execution_count": null,
      "outputs": [
        {
          "output_type": "execute_result",
          "data": {
            "text/plain": [
              "17"
            ]
          },
          "metadata": {
            "tags": []
          },
          "execution_count": 16
        }
      ]
    },
    {
      "cell_type": "code",
      "metadata": {
        "id": "BNDhDUGVGVop",
        "outputId": "c5e21519-f0c9-4779-9e40-435f4a05f014"
      },
      "source": [
        "8 ** 3  # 5 squared   x^n"
      ],
      "execution_count": null,
      "outputs": [
        {
          "output_type": "execute_result",
          "data": {
            "text/plain": [
              "512"
            ]
          },
          "metadata": {
            "tags": []
          },
          "execution_count": 7
        }
      ]
    },
    {
      "cell_type": "markdown",
      "metadata": {
        "id": "LmHX5D4MGVoq"
      },
      "source": [
        "Python Assignment Operators\n",
        "\n",
        "Assignment operators are used to assign values to variables:"
      ]
    },
    {
      "cell_type": "code",
      "metadata": {
        "id": "-IRca2JvGVoq",
        "outputId": "48729a23-379b-4045-be5f-54188f4cce05"
      },
      "source": [
        "x = 6\n",
        "\n",
        "x >>= 3 #right shift operator\n",
        "\n",
        "print(x)"
      ],
      "execution_count": null,
      "outputs": [
        {
          "output_type": "stream",
          "text": [
            "0\n"
          ],
          "name": "stdout"
        }
      ]
    },
    {
      "cell_type": "code",
      "metadata": {
        "id": "DRw0QrmiGVoq"
      },
      "source": [
        "x = 6\n",
        "\n",
        "x <<= 3 #left shift operator\n",
        "\n",
        "print(x)"
      ],
      "execution_count": null,
      "outputs": []
    },
    {
      "cell_type": "markdown",
      "metadata": {
        "id": "eGaeROnhGVor"
      },
      "source": [
        "Python Comparison Operators\n",
        "\n",
        "Comparison operators are used to compare two values:"
      ]
    },
    {
      "cell_type": "code",
      "metadata": {
        "id": "IhtAsu3WGVor",
        "outputId": "242da3c6-97e1-4582-f659-984a3c06a2ee"
      },
      "source": [
        "x = 5\n",
        "y = 3\n",
        "\n",
        "print(x >= y)\n",
        "\n",
        "# returns True because five is greater, or equal, to 3\n"
      ],
      "execution_count": null,
      "outputs": [
        {
          "output_type": "stream",
          "text": [
            "True\n"
          ],
          "name": "stdout"
        }
      ]
    },
    {
      "cell_type": "markdown",
      "metadata": {
        "id": "b5jKCrNKGVos"
      },
      "source": [
        "Python Logical Operators\n",
        "\n",
        "Logical operators are used to combine conditional statements:\n",
        "\n",
        "and, or , not\n"
      ]
    },
    {
      "cell_type": "code",
      "metadata": {
        "id": "JK3CtB_FGVos",
        "outputId": "15e945d0-f69f-4857-f702-667001b644eb"
      },
      "source": [
        "x = 5\n",
        "\n",
        "print(not(x > 3 and x < 10))\n",
        "\n",
        "# returns False because not is used to reverse the result"
      ],
      "execution_count": null,
      "outputs": [
        {
          "output_type": "stream",
          "text": [
            "False\n"
          ],
          "name": "stdout"
        }
      ]
    },
    {
      "cell_type": "markdown",
      "metadata": {
        "id": "UiuNF2UJGVos"
      },
      "source": [
        "Python Identity Operators\n",
        "\n",
        "Identity operators are used to compare the objects, not if they are equal, but if they are actually the same object, with the same memory location:\n",
        "is, is not"
      ]
    },
    {
      "cell_type": "code",
      "metadata": {
        "id": "yU1o_XX4GVot",
        "outputId": "d4de645d-a594-4481-f092-4146a5da9dfa"
      },
      "source": [
        "x = [\"apple\", \"banana\"]\n",
        "y = [\"apple\", \"banana\"]\n",
        "z = x\n",
        "\n",
        "print(x is not z)\n",
        "\n",
        "# returns False because z is the same object as x\n",
        "\n",
        "print(x is not y)\n",
        "\n",
        "# returns True because x is not the same object as y, even if they have the same content\n",
        "\n",
        "print(x != y)\n",
        "\n",
        "# to demonstrate the difference betweeen \"is not\" and \"!=\": this comparison returns False because x is equal to y\n"
      ],
      "execution_count": null,
      "outputs": [
        {
          "output_type": "stream",
          "text": [
            "False\n",
            "True\n",
            "False\n"
          ],
          "name": "stdout"
        }
      ]
    },
    {
      "cell_type": "markdown",
      "metadata": {
        "id": "S3lZ-EqcGVou"
      },
      "source": [
        "Python Membership Operators\n",
        "\n",
        "Membership operators are used to test if a sequence is presented in an object:\n",
        "in, in not"
      ]
    },
    {
      "cell_type": "code",
      "metadata": {
        "id": "trF0exLCGVou",
        "outputId": "f326a066-861a-4001-ee30-670cbf972323"
      },
      "source": [
        "x = [\"apple\", \"banana\"]\n",
        "\n",
        "print(\"pineapple\" not in x)\n",
        "\n",
        "# returns True because a sequence with the value \"pineapple\" is not in the list"
      ],
      "execution_count": null,
      "outputs": [
        {
          "output_type": "stream",
          "text": [
            "True\n"
          ],
          "name": "stdout"
        }
      ]
    },
    {
      "cell_type": "markdown",
      "metadata": {
        "id": "-S1dJ3m2GVov"
      },
      "source": [
        "Variables: \n",
        "Variables are containers for storing data values."
      ]
    },
    {
      "cell_type": "code",
      "metadata": {
        "scrolled": true,
        "id": "Laxe5ymMGVow",
        "outputId": "90243e07-55aa-421d-d415-fb037eef8681"
      },
      "source": [
        "x = 5\n",
        "y = \"John\"\n",
        "print(x)\n",
        "print(y)"
      ],
      "execution_count": null,
      "outputs": [
        {
          "output_type": "stream",
          "text": [
            "5\n",
            "John\n"
          ],
          "name": "stdout"
        }
      ]
    },
    {
      "cell_type": "markdown",
      "metadata": {
        "id": "l6CtRSCqGVow"
      },
      "source": [
        "Variables do not need to be declared with any particular type, and can even change type after they have been set."
      ]
    },
    {
      "cell_type": "code",
      "metadata": {
        "id": "Q3TZNrgZGVox",
        "outputId": "5ae12a40-e6ef-4859-8eea-1d8b0654f215"
      },
      "source": [
        "x = 4       # x is of type int\n",
        "x = \"Sally\" # x is now of type str\n",
        "print(x)"
      ],
      "execution_count": null,
      "outputs": [
        {
          "output_type": "stream",
          "text": [
            "Sally\n"
          ],
          "name": "stdout"
        }
      ]
    },
    {
      "cell_type": "markdown",
      "metadata": {
        "id": "yhJBq1tTGVox"
      },
      "source": [
        "Casting:\n",
        "If you want to specify the data type of a variable, this can be done with casting."
      ]
    },
    {
      "cell_type": "code",
      "metadata": {
        "id": "Rr8yYnZPGVox"
      },
      "source": [
        "x = str(3)    # x will be '3'\n",
        "y = int(3)    # y will be 3\n",
        "z = float(3)  # z will be 3.0"
      ],
      "execution_count": null,
      "outputs": []
    },
    {
      "cell_type": "markdown",
      "metadata": {
        "id": "EBNxw8l-GVoy"
      },
      "source": [
        "Get the Type:\n",
        "You can get the data type of a variable with the type() function."
      ]
    },
    {
      "cell_type": "code",
      "metadata": {
        "id": "0KVA8jgYGVoy",
        "outputId": "f41db062-1436-447d-d6f5-ac965bcb4847"
      },
      "source": [
        "x = 5\n",
        "y = \"John\"\n",
        "z= \"Gurkirat456\"\n",
        "print(type(x))\n",
        "print(type(y))\n",
        "print(type(z))"
      ],
      "execution_count": null,
      "outputs": [
        {
          "output_type": "stream",
          "text": [
            "<class 'int'>\n",
            "<class 'str'>\n",
            "<class 'str'>\n"
          ],
          "name": "stdout"
        }
      ]
    },
    {
      "cell_type": "markdown",
      "metadata": {
        "id": "YNWDKcptGVoy"
      },
      "source": [
        "Case-Sensitive:\n",
        "Variable names are case-sensitive."
      ]
    },
    {
      "cell_type": "code",
      "metadata": {
        "id": "GqmLO-PyGVoz"
      },
      "source": [
        "a = 4\n",
        "A = \"Sally\"\n",
        "#A will not overwrite a"
      ],
      "execution_count": null,
      "outputs": []
    },
    {
      "cell_type": "markdown",
      "metadata": {
        "id": "_VzKB32JGVoz"
      },
      "source": [
        "Variable Names:\n",
        "\n",
        "A variable can have a short name (like x and y) or a more descriptive name (age, carname, total_volume). \n",
        "Rules for Python variables:\n",
        "\n",
        "A variable name must start with a letter or the underscore character\n",
        "\n",
        "A variable name cannot start with a number\n",
        "\n",
        "A variable name can only contain alpha-numeric characters and underscores (A-z, 0-9, and _ )\n",
        "\n",
        "Variable names are case-sensitive (age, Age and AGE are three different variables)"
      ]
    },
    {
      "cell_type": "code",
      "metadata": {
        "id": "LM1Kdz0eGVoz"
      },
      "source": [
        "myvar = \"John\"\n",
        "my_var = \"John\"\n",
        "_my_var = \"John\"\n",
        "myVar = \"John\"\n",
        "MYVAR = \"John\"\n",
        "myvar2 = \"John\""
      ],
      "execution_count": null,
      "outputs": []
    },
    {
      "cell_type": "markdown",
      "metadata": {
        "id": "IJV5u8wpGVo0"
      },
      "source": [
        "Many Values to Multiple Variables:\n",
        "\n",
        "Python allows you to assign values to multiple variables in one line"
      ]
    },
    {
      "cell_type": "code",
      "metadata": {
        "id": "ThwZ98H5GVo0",
        "outputId": "552b4c74-6626-46f1-f890-0279071226b8"
      },
      "source": [
        "x, y, z = \"Orange\", \"Banana\", \"Cherry\"\n",
        "print(x)\n",
        "print(y)\n",
        "print(z)"
      ],
      "execution_count": null,
      "outputs": [
        {
          "output_type": "stream",
          "text": [
            "Orange\n",
            "Banana\n",
            "Cherry\n"
          ],
          "name": "stdout"
        }
      ]
    },
    {
      "cell_type": "markdown",
      "metadata": {
        "id": "XDW6I8jvGVo0"
      },
      "source": [
        "One Value to Multiple Variables:\n",
        "\n",
        "And you can assign the same value to multiple variables in one line"
      ]
    },
    {
      "cell_type": "code",
      "metadata": {
        "id": "fSm496K1GVo1",
        "outputId": "4da370b3-95d0-4833-d7a7-af48736b351d"
      },
      "source": [
        "x = y = z = \"Orange\"\n",
        "print(x)\n",
        "print(y)\n",
        "print(z)"
      ],
      "execution_count": null,
      "outputs": [
        {
          "output_type": "stream",
          "text": [
            "Orange\n",
            "Orange\n",
            "Orange\n"
          ],
          "name": "stdout"
        }
      ]
    },
    {
      "cell_type": "markdown",
      "metadata": {
        "id": "G6WEvYIWGVo2"
      },
      "source": [
        "Unpack a Collection:\n",
        "\n",
        "If you have a collection of values in a list, tuple etc. Python allows you extract the values into variables. This is called unpacking."
      ]
    },
    {
      "cell_type": "code",
      "metadata": {
        "id": "pysYUUt_GVo2",
        "outputId": "dc7c6fc1-cffb-403b-adf5-c8b9ef6cf04e"
      },
      "source": [
        "fruits = [\"apple\", \"banana\", \"cherry\"]\n",
        "x, y, z = fruits\n",
        "print(x)\n",
        "print(y)\n",
        "print(z)"
      ],
      "execution_count": null,
      "outputs": [
        {
          "output_type": "stream",
          "text": [
            "apple\n",
            "banana\n",
            "cherry\n"
          ],
          "name": "stdout"
        }
      ]
    },
    {
      "cell_type": "markdown",
      "metadata": {
        "id": "D-j747uxGVo2"
      },
      "source": [
        "Output Variables:\n",
        "\n",
        "The Python print statement is often used to output variables.\n",
        "\n",
        "To combine both text and a variable, Python uses the + character"
      ]
    },
    {
      "cell_type": "code",
      "metadata": {
        "id": "g5DlgPysGVo3",
        "outputId": "4527573a-8a83-42d8-bc04-6df0ebd3c7d5"
      },
      "source": [
        "x = \"awesome\"\n",
        "y =\"I don't care still\"\n",
        "print(\"Whatever is python \" + y)"
      ],
      "execution_count": null,
      "outputs": [
        {
          "output_type": "stream",
          "text": [
            "Whatever is python I don't care still\n"
          ],
          "name": "stdout"
        }
      ]
    },
    {
      "cell_type": "markdown",
      "metadata": {
        "id": "fqKMkN-xGVo3"
      },
      "source": [
        "You can also use the + character to add a variable to another variable:"
      ]
    },
    {
      "cell_type": "code",
      "metadata": {
        "id": "5RvBa_iCGVo3",
        "outputId": "875f9493-2cfe-4433-a7f7-50e58ab53507"
      },
      "source": [
        "x = \"Python is \"\n",
        "y = \"awesome\"\n",
        "z =  x + y\n",
        "print(z)"
      ],
      "execution_count": null,
      "outputs": [
        {
          "output_type": "stream",
          "text": [
            "Python is awesome\n"
          ],
          "name": "stdout"
        }
      ]
    },
    {
      "cell_type": "markdown",
      "metadata": {
        "id": "sIY0VLZnGVo4"
      },
      "source": [
        "For numbers, the + character works as a mathematical operator:"
      ]
    },
    {
      "cell_type": "code",
      "metadata": {
        "id": "d4UvZ0Q2GVo4",
        "outputId": "ac599f58-ca35-4773-c1f6-5e99504bbc12"
      },
      "source": [
        "x = 5\n",
        "y = 10\n",
        "print(x + y)"
      ],
      "execution_count": null,
      "outputs": [
        {
          "output_type": "stream",
          "text": [
            "15\n"
          ],
          "name": "stdout"
        }
      ]
    },
    {
      "cell_type": "code",
      "metadata": {
        "id": "oe43cUsDGVo4",
        "outputId": "814e7c21-ee45-42fe-81e1-96947c41641b"
      },
      "source": [
        "width = 20\n",
        "height = 5 * 9\n",
        "print(width * height)"
      ],
      "execution_count": null,
      "outputs": [
        {
          "output_type": "stream",
          "text": [
            "900\n"
          ],
          "name": "stdout"
        }
      ]
    },
    {
      "cell_type": "markdown",
      "metadata": {
        "id": "SGt9p6F4GVo5"
      },
      "source": [
        "Global Variables:\n",
        "\n",
        "Variables that are created outside of a function (as in all of the examples above) are known as global variables.\n",
        "\n",
        "Global variables can be used by everyone, both inside of functions and outside."
      ]
    },
    {
      "cell_type": "code",
      "metadata": {
        "id": "QYCa6iysGVo5",
        "outputId": "dc710eec-474a-4e79-cc1a-c4622769eee0"
      },
      "source": [
        "x = \"awesome\"\n",
        "\n",
        "def myfunc():\n",
        "  print(\"Python is \" + x)\n",
        "\n",
        "myfunc()"
      ],
      "execution_count": null,
      "outputs": [
        {
          "output_type": "stream",
          "text": [
            "Python is awesome\n"
          ],
          "name": "stdout"
        }
      ]
    },
    {
      "cell_type": "markdown",
      "metadata": {
        "id": "k7Q9jvi0GVo5"
      },
      "source": [
        "If you create a variable with the same name inside a function, this variable will be local, and can only be used inside the function. The global variable with the same name will remain as it was, global and with the original value."
      ]
    },
    {
      "cell_type": "code",
      "metadata": {
        "id": "-EwrSr2cGVo6",
        "outputId": "022f36d3-3680-412b-c04e-9d7aa3a33579"
      },
      "source": [
        "x = \"awesome\"\n",
        "\n",
        "def myfunc():\n",
        "  x = \"fantastic\"\n",
        "  print(\"Python is \" + x)\n",
        "\n",
        "myfunc()\n",
        "\n",
        "print(\"Python is \" + x)"
      ],
      "execution_count": null,
      "outputs": [
        {
          "output_type": "stream",
          "text": [
            "Python is fantastic\n",
            "Python is awesome\n"
          ],
          "name": "stdout"
        }
      ]
    },
    {
      "cell_type": "markdown",
      "metadata": {
        "id": "HXnwyp48GVo6"
      },
      "source": [
        "The global Keyword:\n",
        "\n",
        "Normally, when you create a variable inside a function, that variable is local, and can only be used inside that function.\n",
        "\n",
        "To create a global variable inside a function, you can use the global keyword."
      ]
    },
    {
      "cell_type": "code",
      "metadata": {
        "id": "PceanLwMGVo6",
        "outputId": "679f65f1-8d25-4235-e5f1-c9d284aa251d"
      },
      "source": [
        "def myfunc():\n",
        "  global x\n",
        "  x = \"fantastic\"\n",
        "\n",
        "myfunc()\n",
        "\n",
        "print(\"Python is \" + x)"
      ],
      "execution_count": null,
      "outputs": [
        {
          "output_type": "stream",
          "text": [
            "Python is fantastic\n"
          ],
          "name": "stdout"
        }
      ]
    },
    {
      "cell_type": "markdown",
      "metadata": {
        "id": "iti2YVXCGVo7"
      },
      "source": [
        "Also, use the global keyword if you want to change a global variable inside a function."
      ]
    },
    {
      "cell_type": "code",
      "metadata": {
        "id": "7YUVl2yfGVo7",
        "outputId": "724f2e88-db83-4507-8469-3b11ba48c2c0"
      },
      "source": [
        "x = \"awesome\"\n",
        "\n",
        "def myfunc():\n",
        "  global x\n",
        "  x = \"fantastic\"\n",
        "\n",
        "myfunc()\n",
        "\n",
        "print(\"Python is \" + x)"
      ],
      "execution_count": null,
      "outputs": [
        {
          "output_type": "stream",
          "text": [
            "Python is fantastic\n"
          ],
          "name": "stdout"
        }
      ]
    },
    {
      "cell_type": "markdown",
      "metadata": {
        "id": "vaYH5eWLGVo8"
      },
      "source": [
        "There are three numeric types in Python:\n",
        "\n",
        "\n",
        "int\n",
        "float\n",
        "complex\n",
        "Variables of numeric types are created when you assign a value to them:"
      ]
    },
    {
      "cell_type": "code",
      "metadata": {
        "id": "JdvsqTOeGVo8"
      },
      "source": [
        "x = 1    # int\n",
        "y = 2.8  # float\n",
        "z = 1j   # complex"
      ],
      "execution_count": null,
      "outputs": []
    },
    {
      "cell_type": "markdown",
      "metadata": {
        "id": "VFUkoff2GVo9"
      },
      "source": [
        "Int:\n",
        "\n",
        "Int, or integer, is a whole number, positive or negative, without decimals, of unlimited length"
      ]
    },
    {
      "cell_type": "code",
      "metadata": {
        "id": "yZ2WkaCJGVo9",
        "outputId": "d1ba267e-9f26-4244-e071-c96bf3f4f138"
      },
      "source": [
        "x = 1\n",
        "y = 35656222554887711\n",
        "z = -3255522\n",
        "\n",
        "print(type(x))\n",
        "print(type(y))\n",
        "print(type(z))"
      ],
      "execution_count": null,
      "outputs": [
        {
          "output_type": "stream",
          "text": [
            "<class 'int'>\n",
            "<class 'int'>\n",
            "<class 'int'>\n"
          ],
          "name": "stdout"
        }
      ]
    },
    {
      "cell_type": "markdown",
      "metadata": {
        "id": "M1nU3xCnGVo-"
      },
      "source": [
        "Float:\n",
        "\n",
        "Float, or \"floating point number\" is a number, positive or negative, containing one or more decimals."
      ]
    },
    {
      "cell_type": "code",
      "metadata": {
        "id": "o1mCg_cYGVo_",
        "outputId": "9fdaeeeb-46d9-4f0b-fe6f-07976727e89c"
      },
      "source": [
        "x = 1.10\n",
        "y = 1.0\n",
        "z = -35.59\n",
        "\n",
        "print(type(x))\n",
        "print(type(y))\n",
        "print(type(z))"
      ],
      "execution_count": null,
      "outputs": [
        {
          "output_type": "stream",
          "text": [
            "<class 'float'>\n",
            "<class 'float'>\n",
            "<class 'float'>\n"
          ],
          "name": "stdout"
        }
      ]
    },
    {
      "cell_type": "markdown",
      "metadata": {
        "id": "lwGvdZqIGVo_"
      },
      "source": [
        "Float can also be scientific numbers with an \"e\" to indicate the power of 10."
      ]
    },
    {
      "cell_type": "code",
      "metadata": {
        "id": "ncFdjffoGVpA",
        "outputId": "46b79dd5-3f86-4f4b-8a00-caa90dcdcfc7"
      },
      "source": [
        "x = 35e3\n",
        "y = 12E4\n",
        "z = -87.7e100\n",
        "\n",
        "print(type(x))\n",
        "print(type(y))\n",
        "print(type(z))"
      ],
      "execution_count": null,
      "outputs": [
        {
          "output_type": "stream",
          "text": [
            "<class 'float'>\n",
            "<class 'float'>\n",
            "<class 'float'>\n"
          ],
          "name": "stdout"
        }
      ]
    },
    {
      "cell_type": "markdown",
      "metadata": {
        "id": "jIDoGBJwGVpB"
      },
      "source": [
        "Complex:\n",
        "\n",
        "Complex numbers are written with a \"j\" as the imaginary part:"
      ]
    },
    {
      "cell_type": "code",
      "metadata": {
        "id": "AzGvIVL0GVpB",
        "outputId": "b7e8dcae-a2c1-4e1b-a7a4-9b5d63fd96aa"
      },
      "source": [
        "x = 3+5j\n",
        "y = 5j\n",
        "z = -5j\n",
        "\n",
        "print(type(x))\n",
        "print(type(y))\n",
        "print(type(z))"
      ],
      "execution_count": null,
      "outputs": [
        {
          "output_type": "stream",
          "text": [
            "<class 'complex'>\n",
            "<class 'complex'>\n",
            "<class 'complex'>\n"
          ],
          "name": "stdout"
        }
      ]
    },
    {
      "cell_type": "markdown",
      "metadata": {
        "id": "M_aOWt25GVpC"
      },
      "source": [
        "Type Conversion:\n",
        "\n",
        "You can convert from one type to another with the int(), float(), and complex() methods:"
      ]
    },
    {
      "cell_type": "code",
      "metadata": {
        "id": "5Mcakm6GGVpC",
        "outputId": "f84e1aef-26cf-4df3-d64b-ffcee11a7373"
      },
      "source": [
        "x = 1    # int\n",
        "y = 2.8  # float\n",
        "z = 1j   # complex\n",
        "\n",
        "#convert from int to float:\n",
        "a = float(x)\n",
        "\n",
        "#convert from float to int:\n",
        "b = int(y)\n",
        "\n",
        "#convert from int to complex:\n",
        "c = complex(x)\n",
        "\n",
        "print(a)\n",
        "print(b)\n",
        "print(c)\n",
        "\n",
        "print(type(a))\n",
        "print(type(b))\n",
        "print(type(c))"
      ],
      "execution_count": null,
      "outputs": [
        {
          "output_type": "stream",
          "text": [
            "1.0\n",
            "2\n",
            "(1+0j)\n",
            "<class 'float'>\n",
            "<class 'int'>\n",
            "<class 'complex'>\n"
          ],
          "name": "stdout"
        }
      ]
    },
    {
      "cell_type": "markdown",
      "metadata": {
        "id": "FmMDyVG6GVpC"
      },
      "source": [
        "Random Number:\n",
        "\n",
        "Python does not have a random() function to make a random number, but Python has a built-in module called random that can be used to make random numbers:"
      ]
    },
    {
      "cell_type": "code",
      "metadata": {
        "id": "J4SF_8bKGVpD",
        "outputId": "f8c490d2-5756-446f-869f-8e5689e2d27a"
      },
      "source": [
        "import random\n",
        "\n",
        "print(random.randrange(11, 20))"
      ],
      "execution_count": null,
      "outputs": [
        {
          "output_type": "stream",
          "text": [
            "14\n"
          ],
          "name": "stdout"
        }
      ]
    },
    {
      "cell_type": "markdown",
      "metadata": {
        "id": "8hhLL9KvGVpD"
      },
      "source": [
        "Specify a Variable Type:\n",
        "\n",
        "There may be times when you want to specify a type on to a variable. This can be done with casting. Python is an object-orientated language, and as such it uses classes to define data types, including its primitive types.\n",
        "\n",
        "\n",
        "Casting in python is therefore done using constructor functions:\n",
        "\n",
        "int() - constructs an integer number from an integer literal, a float literal (by removing all decimals), or a string literal (providing the string represents a whole number)\n",
        "\n",
        "float() - constructs a float number from an integer literal, a float literal or a string literal (providing the string represents a float or an integer)\n",
        "\n",
        "str() - constructs a string from a wide variety of data types, including strings, integer literals and float literals"
      ]
    },
    {
      "cell_type": "code",
      "metadata": {
        "id": "CC7WNI-5GVpD"
      },
      "source": [
        "x = int(1)   # x will be 1\n",
        "y = int(2.8) # y will be 2\n",
        "z = int(\"3\") # z will be 3"
      ],
      "execution_count": null,
      "outputs": []
    },
    {
      "cell_type": "code",
      "metadata": {
        "id": "aDzR04XQGVpE"
      },
      "source": [
        "x = float(1)     # x will be 1.0\n",
        "y = float(2.8)   # y will be 2.8\n",
        "z = float(\"3\")   # z will be 3.0\n",
        "w = float(\"4.2\") # w will be 4.2"
      ],
      "execution_count": null,
      "outputs": []
    },
    {
      "cell_type": "code",
      "metadata": {
        "id": "88k7WgKeGVpE"
      },
      "source": [
        "x = str(\"s1\") # x will be 's1'\n",
        "y = str(2)    # y will be '2'\n",
        "z = str(3.0)  # z will be '3.0'"
      ],
      "execution_count": null,
      "outputs": []
    },
    {
      "cell_type": "markdown",
      "metadata": {
        "id": "haR5klKSGVpE"
      },
      "source": [
        "Strings:\n",
        "\n",
        "Strings in python are surrounded by either single quotation marks, or double quotation marks.\n",
        "\n",
        "'hello' is the same as \"hello\".\n",
        "\n",
        "You can display a string literal with the print() function:"
      ]
    },
    {
      "cell_type": "code",
      "metadata": {
        "id": "sPWZ-6mwGVpF",
        "outputId": "5f7905ed-d27b-40d9-c620-85801aff3b9a"
      },
      "source": [
        "print(\"Hello\")\n",
        "print('Hello')"
      ],
      "execution_count": null,
      "outputs": [
        {
          "output_type": "stream",
          "text": [
            "Hello\n",
            "Hello\n"
          ],
          "name": "stdout"
        }
      ]
    },
    {
      "cell_type": "markdown",
      "metadata": {
        "id": "iSm1AKrlGVpF"
      },
      "source": [
        "Assign String to a Variable\n",
        "\n",
        "Assigning a string to a variable is done with the variable name followed by an equal sign and the string:"
      ]
    },
    {
      "cell_type": "code",
      "metadata": {
        "id": "kvu0Jv8FGVpG",
        "outputId": "41ff3d34-4749-49b8-eb94-4def939a67ce"
      },
      "source": [
        "a = \"Hello\"\n",
        "print(a)"
      ],
      "execution_count": null,
      "outputs": [
        {
          "output_type": "stream",
          "text": [
            "Hello\n"
          ],
          "name": "stdout"
        }
      ]
    },
    {
      "cell_type": "markdown",
      "metadata": {
        "id": "0BEy_ruEGVpG"
      },
      "source": [
        "Multiline Strings\n",
        "\n",
        "You can assign a multiline string to a variable by using three quotes:"
      ]
    },
    {
      "cell_type": "code",
      "metadata": {
        "id": "v3IlTzakGVpG",
        "outputId": "55faadac-7f11-43c1-be97-1089b945c35c"
      },
      "source": [
        "a = \"\"\"Lorem ipsum dolor sit amet,\n",
        "consectetur adipiscing elit,\n",
        "sed do eiusmod tempor incididunt\n",
        "ut labore et dolore magna aliqua.\"\"\"\n",
        "print(a)"
      ],
      "execution_count": null,
      "outputs": [
        {
          "output_type": "stream",
          "text": [
            "Lorem ipsum dolor sit amet,\n",
            "consectetur adipiscing elit,\n",
            "sed do eiusmod tempor incididunt\n",
            "ut labore et dolore magna aliqua.\n"
          ],
          "name": "stdout"
        }
      ]
    },
    {
      "cell_type": "markdown",
      "metadata": {
        "id": "zmpLh20UGVpH"
      },
      "source": [
        "Strings are Arrays:\n",
        "\n",
        "Like many other popular programming languages, strings in Python are arrays of bytes representing unicode characters.\n",
        "\n",
        "However, Python does not have a character data type, a single character is simply a string with a length of 1.\n",
        "\n",
        "Square brackets can be used to access elements of the string."
      ]
    },
    {
      "cell_type": "code",
      "metadata": {
        "id": "3r4t7L8JGVpH",
        "outputId": "4d3e8f0f-3bfb-417c-d0f8-60dc42ec9539"
      },
      "source": [
        "a = \"Hello, World!\"\n",
        "print(a[1])"
      ],
      "execution_count": null,
      "outputs": [
        {
          "output_type": "stream",
          "text": [
            "e\n"
          ],
          "name": "stdout"
        }
      ]
    },
    {
      "cell_type": "markdown",
      "metadata": {
        "id": "UnZ8k_cxGVpH"
      },
      "source": [
        "Looping Through a String:\n",
        "\n",
        "Since strings are arrays, we can loop through the characters in a string, with a for loop."
      ]
    },
    {
      "cell_type": "code",
      "metadata": {
        "id": "aB9KZ3LVGVpI",
        "outputId": "1e6fda89-3289-483f-9a14-628c8d42069b"
      },
      "source": [
        "for x in \"banana\":\n",
        "  print(x)"
      ],
      "execution_count": null,
      "outputs": [
        {
          "output_type": "stream",
          "text": [
            "b\n",
            "a\n",
            "n\n",
            "a\n",
            "n\n",
            "a\n"
          ],
          "name": "stdout"
        }
      ]
    },
    {
      "cell_type": "markdown",
      "metadata": {
        "id": "sBvGtuPxGVpI"
      },
      "source": [
        "String Length:\n",
        "\n",
        "To get the length of a string, use the len() function."
      ]
    },
    {
      "cell_type": "code",
      "metadata": {
        "id": "lkWSJd1HGVpI",
        "outputId": "0cd9a681-6fc3-4624-d917-050fc4a2d728"
      },
      "source": [
        "a = \"Hello, World!\"\n",
        "print(len(a))\n"
      ],
      "execution_count": null,
      "outputs": [
        {
          "output_type": "stream",
          "text": [
            "13\n"
          ],
          "name": "stdout"
        }
      ]
    },
    {
      "cell_type": "markdown",
      "metadata": {
        "id": "KIowoNsHGVpJ"
      },
      "source": [
        "Check String:\n",
        "\n",
        "To check if a certain phrase or character is present in a string, we can use the keyword in."
      ]
    },
    {
      "cell_type": "code",
      "metadata": {
        "id": "3X4hLpSIGVpJ",
        "outputId": "b9461a2d-87b9-428e-c2d1-60c807d2986e"
      },
      "source": [
        "txt = \"The best things in life are free!\"\n",
        "print(\"free\" in txt)"
      ],
      "execution_count": null,
      "outputs": [
        {
          "output_type": "stream",
          "text": [
            "True\n"
          ],
          "name": "stdout"
        }
      ]
    },
    {
      "cell_type": "markdown",
      "metadata": {
        "id": "iUqFSx-CGVpJ"
      },
      "source": [
        "Slicing:\n",
        "\n",
        "You can return a range of characters by using the slice syntax.\n",
        "\n",
        "Specify the start index and the end index, separated by a colon, to return a part of the string."
      ]
    },
    {
      "cell_type": "code",
      "metadata": {
        "id": "aik08GnQGVpK",
        "outputId": "f2ff2680-c2cb-4936-db48-a99f00a30d2d"
      },
      "source": [
        "b = \"Hello, World!\"\n",
        "print(b[2:8])\n"
      ],
      "execution_count": null,
      "outputs": [
        {
          "output_type": "stream",
          "text": [
            "llo, W\n"
          ],
          "name": "stdout"
        }
      ]
    },
    {
      "cell_type": "markdown",
      "metadata": {
        "id": "9Ajh-F15GVpK"
      },
      "source": [
        "Slice From the Start:\n",
        "\n",
        "By leaving out the start index, the range will start at the first character:"
      ]
    },
    {
      "cell_type": "code",
      "metadata": {
        "id": "bSdjSCG9GVpK",
        "outputId": "8338cff2-96cb-463d-b656-56108fa1e0a0"
      },
      "source": [
        "b = \"Hello, World!\"\n",
        "print(b[ :6])"
      ],
      "execution_count": null,
      "outputs": [
        {
          "output_type": "stream",
          "text": [
            "Hello,\n"
          ],
          "name": "stdout"
        }
      ]
    },
    {
      "cell_type": "markdown",
      "metadata": {
        "id": "p2NSc-e2GVpL"
      },
      "source": [
        "Slice To the End:\n",
        "\n",
        "By leaving out the end index, the range will go to the end:"
      ]
    },
    {
      "cell_type": "code",
      "metadata": {
        "id": "BWHU3TycGVpL",
        "outputId": "b24fab79-5a8e-4eb8-e9e0-d99a1074bfee"
      },
      "source": [
        "b = \"Hello, World!\"\n",
        "print(b[2:])"
      ],
      "execution_count": null,
      "outputs": [
        {
          "output_type": "stream",
          "text": [
            "llo, World!\n"
          ],
          "name": "stdout"
        }
      ]
    },
    {
      "cell_type": "markdown",
      "metadata": {
        "id": "ALR7FCzXGVpL"
      },
      "source": [
        "Negative Indexing:\n",
        "\n",
        "Use negative indexes to start the slice from the end of the string:"
      ]
    },
    {
      "cell_type": "code",
      "metadata": {
        "scrolled": true,
        "id": "BP-Q8BckGVpM",
        "outputId": "ffd6dece-5724-4b86-e108-d3ddb2c46e04"
      },
      "source": [
        "b = \"Hello, World!\"\n",
        "print(b[-13:-5])"
      ],
      "execution_count": null,
      "outputs": [
        {
          "output_type": "stream",
          "text": [
            "Hello, W\n"
          ],
          "name": "stdout"
        }
      ]
    },
    {
      "cell_type": "markdown",
      "metadata": {
        "id": "Y1utXy8gGVpM"
      },
      "source": [
        "String Concatenation:\n",
        "\n",
        "To concatenate, or combine, two strings you can use the + operator."
      ]
    },
    {
      "cell_type": "code",
      "metadata": {
        "id": "cidmEPSRGVpM",
        "outputId": "96aa0bc9-71b2-4df7-c1dc-9122758bd808"
      },
      "source": [
        "a = \"Hello\"\n",
        "b = \"World\"\n",
        "c = a + b\n",
        "print(c)"
      ],
      "execution_count": null,
      "outputs": [
        {
          "output_type": "stream",
          "text": [
            "HelloWorld\n"
          ],
          "name": "stdout"
        }
      ]
    },
    {
      "cell_type": "markdown",
      "metadata": {
        "id": "ixFr2qwpGVpN"
      },
      "source": [
        "Boolean Values:\n",
        "\n",
        "In programming you often need to know if an expression is True or False.\n",
        "\n",
        "You can evaluate any expression in Python, and get one of two answers, True or False.\n",
        "\n",
        "When you compare two values, the expression is evaluated and Python returns the Boolean answer:"
      ]
    },
    {
      "cell_type": "code",
      "metadata": {
        "id": "5_of-N1FGVpN",
        "outputId": "9da5bdab-eb28-46ae-c5b1-b1f1de4dcee9"
      },
      "source": [
        "print(10 > 9)\n",
        "print(10 == 9)\n",
        "print(10 < 9)"
      ],
      "execution_count": null,
      "outputs": [
        {
          "output_type": "stream",
          "text": [
            "True\n",
            "False\n",
            "False\n"
          ],
          "name": "stdout"
        }
      ]
    },
    {
      "cell_type": "markdown",
      "metadata": {
        "id": "tqQpUgcNGVpN"
      },
      "source": [
        "When you run a condition in an if statement, Python returns True or False:"
      ]
    },
    {
      "cell_type": "markdown",
      "metadata": {
        "id": "oOeCqj4hGVpO"
      },
      "source": [
        "Evaluate Values and Variables:\n",
        "\n",
        "The bool() function allows you to evaluate any value, and give you True or False in return,"
      ]
    },
    {
      "cell_type": "code",
      "metadata": {
        "id": "J67RSZY_GVpO",
        "outputId": "696ad049-f185-41c6-e51e-eae328b33469"
      },
      "source": [
        "print(bool(\"Hello\"))\n",
        "print(bool(15))\n",
        "print(bool(10<9))"
      ],
      "execution_count": null,
      "outputs": [
        {
          "output_type": "stream",
          "text": [
            "True\n",
            "True\n",
            "False\n"
          ],
          "name": "stdout"
        }
      ]
    },
    {
      "cell_type": "markdown",
      "metadata": {
        "id": "NebMzIWXGVpP"
      },
      "source": [
        "List:\n",
        "\n",
        "Lists are used to store multiple items in a single variable.\n",
        "\n",
        "Lists are one of 4 built-in data types in Python used to store collections of data, the other 3 are Tuple, Set, and Dictionary, all with different qualities and usage.\n",
        "\n",
        "Lists are created using square brackets:"
      ]
    },
    {
      "cell_type": "code",
      "metadata": {
        "id": "ZT0z9_DOGVpP",
        "outputId": "98942be4-150b-4e6e-9874-6ffe4a1d09ec"
      },
      "source": [
        "thislist = [\"apple\", \"banana\", \"cherry\"]\n",
        "print(thislist)"
      ],
      "execution_count": null,
      "outputs": [
        {
          "output_type": "stream",
          "text": [
            "['apple', 'banana', 'cherry']\n"
          ],
          "name": "stdout"
        }
      ]
    },
    {
      "cell_type": "code",
      "metadata": {
        "id": "z0PJ2jqfGVpQ",
        "outputId": "c5013ae2-90f1-4b58-b546-63af655154d9"
      },
      "source": [
        "#Bandana Kaur\n",
        "\n",
        "List1 = [\"aman\" , \"Anjali\" , \"Anushka\"]\n",
        "List2 =[13, 34, 45]\n",
        "print (\"name: \", List1)\n",
        "print (\"age: \", List2 )\n"
      ],
      "execution_count": null,
      "outputs": [
        {
          "output_type": "stream",
          "text": [
            "name:  ['aman', 'Anjali', 'Anushka']\n",
            "age:  [13, 34, 45]\n"
          ],
          "name": "stdout"
        }
      ]
    },
    {
      "cell_type": "code",
      "metadata": {
        "id": "nptw5CyCGVpR",
        "outputId": "ab04c40b-41de-494c-fa2a-a0801bb78fa7"
      },
      "source": [
        "#Amritpal\n",
        "lst = [(\"Raju\",10), (\"Kaju\",20), (\"badam\",30)]\n",
        "print(lst)"
      ],
      "execution_count": null,
      "outputs": [
        {
          "output_type": "stream",
          "text": [
            "[('Raju', 10), ('Kaju', 20), ('badam', 30)]\n"
          ],
          "name": "stdout"
        }
      ]
    },
    {
      "cell_type": "code",
      "metadata": {
        "id": "CX0GzfxQGVpR",
        "outputId": "e78ea73c-6b13-4d83-84d2-cbd99648eb17"
      },
      "source": [
        "#Manish\n",
        "list = [\"ak\",21,\"rk\",16,\"sk\",15]\n",
        "print(list)\n"
      ],
      "execution_count": null,
      "outputs": [
        {
          "output_type": "stream",
          "text": [
            "['ak', 21, 'rk', 16, 'sk', 15]\n"
          ],
          "name": "stdout"
        }
      ]
    },
    {
      "cell_type": "markdown",
      "metadata": {
        "id": "4jYMaYfDGVpS"
      },
      "source": [
        "List Items:\n",
        "\n",
        "List items are ordered, changeable, and allow duplicate values.\n",
        "\n",
        "List items are indexed, the first item has index [0], the second item has index [1] etc.\n",
        "\n",
        "Ordered:\n",
        "\n",
        "When we say that lists are ordered, it means that the items have a defined order, and that order will not change.\n",
        "\n",
        "If you add new items to a list, the new items will be placed at the end of the list.\n",
        "\n",
        "Changeable:\n",
        "\n",
        "The list is changeable, meaning that we can change, add, and remove items in a list after it has been created.\n",
        "\n",
        "Allow Duplicates:\n",
        "\n",
        "Since lists are indexed, lists can have items with the same value:"
      ]
    },
    {
      "cell_type": "code",
      "metadata": {
        "id": "MJQnDLoMGVpS",
        "outputId": "0aac1928-a774-4d3f-d0c3-34112f71b2aa"
      },
      "source": [
        "thislist = [\"apple\", \"banana\", \"cherry\", \"apple\", \"cherry\"]\n",
        "print(thislist)"
      ],
      "execution_count": null,
      "outputs": [
        {
          "output_type": "stream",
          "text": [
            "['apple', 'banana', 'cherry', 'apple', 'cherry']\n"
          ],
          "name": "stdout"
        }
      ]
    },
    {
      "cell_type": "markdown",
      "metadata": {
        "id": "YbfJcUH_GVpS"
      },
      "source": [
        "List Length:\n",
        "\n",
        "To determine how many items a list has, use the len() function:"
      ]
    },
    {
      "cell_type": "code",
      "metadata": {
        "id": "25e7jiM0GVpS",
        "outputId": "9024ec29-5cf0-4095-9a17-d934b249f3b1"
      },
      "source": [
        "thislist = [\"apple\", \"banana\", \"cherry\"]\n",
        "print(len(thislist))"
      ],
      "execution_count": null,
      "outputs": [
        {
          "output_type": "stream",
          "text": [
            "3\n"
          ],
          "name": "stdout"
        }
      ]
    },
    {
      "cell_type": "markdown",
      "metadata": {
        "id": "ikSDXOtDGVpT"
      },
      "source": [
        "List Items - Data Types:\n",
        "\n",
        "List items can be of any data type:"
      ]
    },
    {
      "cell_type": "code",
      "metadata": {
        "id": "w69cBz3bGVpT",
        "outputId": "620cc35a-9d9c-4289-8510-5ca3f7253d65"
      },
      "source": [
        "list1 = [\"apple\", \"banana\", \"cherry\"]\n",
        "list2 = [1, 5, 7, 9, 3]\n",
        "list3 = [True, False, False]\n",
        "print(type(list1))"
      ],
      "execution_count": null,
      "outputs": [
        {
          "output_type": "stream",
          "text": [
            "<class 'list'>\n"
          ],
          "name": "stdout"
        }
      ]
    },
    {
      "cell_type": "markdown",
      "metadata": {
        "id": "Hy_cwV7oGVpT"
      },
      "source": [
        "A list can contain different data types:"
      ]
    },
    {
      "cell_type": "code",
      "metadata": {
        "id": "K9pNyJt_GVpU",
        "outputId": "ad8c9168-4968-4a7b-f5e2-0bfea2ea3684"
      },
      "source": [
        "list1 = [\"abc\", 34, True, 40, \"male\"]\n",
        "print(list1)\n"
      ],
      "execution_count": null,
      "outputs": [
        {
          "output_type": "stream",
          "text": [
            "['abc', 34, True, 40, 'male']\n"
          ],
          "name": "stdout"
        }
      ]
    },
    {
      "cell_type": "markdown",
      "metadata": {
        "id": "oTCvPukJGVpU"
      },
      "source": [
        "type()\n",
        "\n",
        "From Python's perspective, lists are defined as objects with the data type 'list':"
      ]
    },
    {
      "cell_type": "code",
      "metadata": {
        "id": "24XDvTWOGVpU",
        "outputId": "0174685c-e40e-43f5-d763-31e7793ebf63"
      },
      "source": [
        "mylist = [\"apple\", \"banana\", \"cherry\"]\n",
        "print(type(mylist))"
      ],
      "execution_count": null,
      "outputs": [
        {
          "output_type": "stream",
          "text": [
            "<class 'list'>\n"
          ],
          "name": "stdout"
        }
      ]
    },
    {
      "cell_type": "markdown",
      "metadata": {
        "id": "9L2Jiw_dGVpV"
      },
      "source": [
        "The list() Constructor:\n",
        "\n",
        "It is also possible to use the list() constructor when creating a new list."
      ]
    },
    {
      "cell_type": "code",
      "metadata": {
        "id": "WIdnOxdvGVpV",
        "outputId": "8cc91ef6-6900-466b-f494-4384103a8139"
      },
      "source": [
        "thislist = list((\"apple\", \"banana\", \"cherry\")) # note the double round-brackets\n",
        "print(thislist)"
      ],
      "execution_count": null,
      "outputs": [
        {
          "output_type": "stream",
          "text": [
            "['apple', 'banana', 'cherry']\n"
          ],
          "name": "stdout"
        }
      ]
    },
    {
      "cell_type": "markdown",
      "metadata": {
        "id": "NYo_mlcvGVpV"
      },
      "source": [
        "Python Collections (Arrays):\n",
        "\n",
        "There are four collection data types in the Python programming language:\n",
        "\n",
        "\n",
        "List is a collection which is ordered and changeable. Allows duplicate members.\n",
        "\n",
        "Tuple is a collection which is ordered and unchangeable. Allows duplicate members.\n",
        "\n",
        "Set is a collection which is unordered and unindexed. No duplicate members.\n",
        "\n",
        "Dictionary is a collection which is unordered and changeable. No duplicate members.\n",
        "\n",
        "When choosing a collection type, it is useful to understand the properties of that type. Choosing the right type for a particular data set could mean retention of meaning, and, it could mean an increase in efficiency or security."
      ]
    },
    {
      "cell_type": "markdown",
      "metadata": {
        "id": "RiJPa4APGVpW"
      },
      "source": [
        "Access Items:\n",
        "\n",
        "List items are indexed and you can access them by referring to the index number:"
      ]
    },
    {
      "cell_type": "code",
      "metadata": {
        "id": "0ZsZyCrbGVpW",
        "outputId": "6570874b-90e6-44c7-ab24-e144f15c7486"
      },
      "source": [
        "thislist = [\"apple\", \"banana\", \"cherry\"]\n",
        "print(thislist[-2])"
      ],
      "execution_count": null,
      "outputs": [
        {
          "output_type": "stream",
          "text": [
            "banana\n"
          ],
          "name": "stdout"
        }
      ]
    },
    {
      "cell_type": "markdown",
      "metadata": {
        "id": "SV_64LeiGVpW"
      },
      "source": [
        "Negative Indexing:\n",
        "\n",
        "Negative indexing means start from the end\n",
        "\n",
        "-1 refers to the last item, -2 refers to the second last item etc."
      ]
    },
    {
      "cell_type": "code",
      "metadata": {
        "id": "ko5sOrfYGVpW",
        "outputId": "ce3e2ea2-df46-4171-b7c5-8b7de8b68801"
      },
      "source": [
        "thislist = [\"apple\", \"banana\", \"cherry\"]\n",
        "print(thislist[-1])"
      ],
      "execution_count": null,
      "outputs": [
        {
          "output_type": "stream",
          "text": [
            "cherry\n"
          ],
          "name": "stdout"
        }
      ]
    },
    {
      "cell_type": "markdown",
      "metadata": {
        "id": "5fFF8frQGVpX"
      },
      "source": [
        "Range of Indexes:\n",
        "\n",
        "You can specify a range of indexes by specifying where to start and where to end the range.\n",
        "\n",
        "When specifying a range, the return value will be a new list with the specified items."
      ]
    },
    {
      "cell_type": "code",
      "metadata": {
        "id": "RFmU45hXGVpX",
        "outputId": "b6fc5798-5162-428a-b7d3-cc7a8e84d5d3"
      },
      "source": [
        "thislist = [\"apple\", \"banana\", \"cherry\", \"orange\", \"kiwi\", \"melon\", \"mango\"]\n",
        "print(thislist[2:5])"
      ],
      "execution_count": null,
      "outputs": [
        {
          "output_type": "stream",
          "text": [
            "['cherry', 'orange', 'kiwi']\n"
          ],
          "name": "stdout"
        }
      ]
    },
    {
      "cell_type": "markdown",
      "metadata": {
        "id": "Pq-MroTrGVpX"
      },
      "source": [
        "By leaving out the start value, the range will start at the first item:"
      ]
    },
    {
      "cell_type": "code",
      "metadata": {
        "id": "0TSVBI4mGVpY",
        "outputId": "5b6a9577-3b8f-4ac6-861a-693aaca6f38b"
      },
      "source": [
        "thislist = [\"apple\", \"banana\", \"cherry\", \"orange\", \"kiwi\", \"melon\", \"mango\"]\n",
        "print(thislist[:4])"
      ],
      "execution_count": null,
      "outputs": [
        {
          "output_type": "stream",
          "text": [
            "['apple', 'banana', 'cherry', 'orange']\n"
          ],
          "name": "stdout"
        }
      ]
    },
    {
      "cell_type": "markdown",
      "metadata": {
        "id": "PFY84AlgGVpY"
      },
      "source": [
        "By leaving out the end value, the range will go on to the end of the list:"
      ]
    },
    {
      "cell_type": "code",
      "metadata": {
        "id": "lCXjlq1mGVpY",
        "outputId": "527cbbd0-2eb3-44e6-e02a-cd1fefc1b719"
      },
      "source": [
        "thislist = [\"apple\", \"banana\", \"cherry\", \"orange\", \"kiwi\", \"melon\", \"mango\"]\n",
        "print(thislist[2:])"
      ],
      "execution_count": null,
      "outputs": [
        {
          "output_type": "stream",
          "text": [
            "['cherry', 'orange', 'kiwi', 'melon', 'mango']\n"
          ],
          "name": "stdout"
        }
      ]
    },
    {
      "cell_type": "markdown",
      "metadata": {
        "id": "GgWlNQq2GVpZ"
      },
      "source": [
        "Range of Negative Indexes:\n",
        "\n",
        "Specify negative indexes if you want to start the search from the end of the list:"
      ]
    },
    {
      "cell_type": "code",
      "metadata": {
        "id": "dY0BaLeBGVpZ",
        "outputId": "d0e89284-749f-4439-a7dd-939d94b9f1af"
      },
      "source": [
        "thislist = [\"apple\", \"banana\", \"cherry\", \"orange\", \"kiwi\", \"melon\", \"mango\"]\n",
        "print(thislist[-4:-1])"
      ],
      "execution_count": null,
      "outputs": [
        {
          "output_type": "stream",
          "text": [
            "['orange', 'kiwi', 'melon']\n"
          ],
          "name": "stdout"
        }
      ]
    },
    {
      "cell_type": "markdown",
      "metadata": {
        "id": "7kihyiMuGVpZ"
      },
      "source": [
        "Change Item Value:\n",
        "\n",
        "To change the value of a specific item, refer to the index number:"
      ]
    },
    {
      "cell_type": "code",
      "metadata": {
        "id": "3iQbZ20WGVpa",
        "outputId": "d3568fe8-f702-4686-ddc5-a0d93b8fa9fe"
      },
      "source": [
        "thislist = [\"apple\", \"banana\", \"cherry\"]\n",
        "thislist[1] = \"blackcurrant\"\n",
        "print(thislist)"
      ],
      "execution_count": null,
      "outputs": [
        {
          "output_type": "stream",
          "text": [
            "['apple', 'blackcurrant', 'cherry']\n"
          ],
          "name": "stdout"
        }
      ]
    },
    {
      "cell_type": "markdown",
      "metadata": {
        "id": "f8n42WGDGVpa"
      },
      "source": [
        "Change a Range of Item Values:\n",
        "\n",
        "To change the value of items within a specific range, define a list with the new values, and refer to the range of index numbers where you want to insert the new values:"
      ]
    },
    {
      "cell_type": "code",
      "metadata": {
        "id": "fYLNk1_YGVpa",
        "outputId": "8a9a44a5-1f03-4376-8a81-034669e4997e"
      },
      "source": [
        "thislist = [\"apple\", \"banana\", \"cherry\", \"orange\", \"kiwi\", \"mango\"]\n",
        "thislist[1:3] = [\"blackcurrant\", \"watermelon\"]\n",
        "print(thislist)"
      ],
      "execution_count": null,
      "outputs": [
        {
          "output_type": "stream",
          "text": [
            "['apple', 'blackcurrant', 'watermelon', 'orange', 'kiwi', 'mango']\n"
          ],
          "name": "stdout"
        }
      ]
    },
    {
      "cell_type": "markdown",
      "metadata": {
        "id": "OkNlFIrjGVpb"
      },
      "source": [
        "If you insert more items than you replace, the new items will be inserted where you specified, and the remaining items will move accordingly:"
      ]
    },
    {
      "cell_type": "code",
      "metadata": {
        "id": "TQE1wPp5GVpb",
        "outputId": "7791761d-11cc-481f-9703-3f9a45bf0e48"
      },
      "source": [
        "thislist = [\"apple\", \"banana\", \"cherry\"]\n",
        "thislist[1:2] = [\"blackcurrant\", \"watermelon\"]\n",
        "print(thislist)"
      ],
      "execution_count": null,
      "outputs": [
        {
          "output_type": "stream",
          "text": [
            "['apple', 'blackcurrant', 'watermelon', 'cherry']\n"
          ],
          "name": "stdout"
        }
      ]
    },
    {
      "cell_type": "markdown",
      "metadata": {
        "id": "aNKWb5cZGVpb"
      },
      "source": [
        "If you insert less items than you replace, the new items will be inserted where you specified, and the remaining items will move accordingly:"
      ]
    },
    {
      "cell_type": "code",
      "metadata": {
        "id": "lUuk-zY1GVpc",
        "outputId": "a8a70c31-6548-48dd-a45a-9d53d5a3152a"
      },
      "source": [
        "thislist = [\"apple\", \"banana\", \"cherry\"]\n",
        "thislist[1:3] = [\"watermelon\"]\n",
        "print(thislist)"
      ],
      "execution_count": null,
      "outputs": [
        {
          "output_type": "stream",
          "text": [
            "['apple', 'watermelon']\n"
          ],
          "name": "stdout"
        }
      ]
    },
    {
      "cell_type": "markdown",
      "metadata": {
        "id": "MdKxhQgWGVpc"
      },
      "source": [
        "Insert Items:\n",
        "\n",
        "To insert a new list item, without replacing any of the existing values, we can use the insert() method.\n",
        "\n",
        "The insert() method inserts an item at the specified index:"
      ]
    },
    {
      "cell_type": "code",
      "metadata": {
        "id": "1av4-VJdGVpc",
        "outputId": "f26d8d47-8916-4148-ff48-62f631953f14"
      },
      "source": [
        "thislist = [\"apple\", \"banana\", \"cherry\"]\n",
        "thislist.insert(2, \"watermelon\")\n",
        "print(thislist)"
      ],
      "execution_count": null,
      "outputs": [
        {
          "output_type": "stream",
          "text": [
            "['apple', 'banana', 'watermelon', 'cherry']\n"
          ],
          "name": "stdout"
        }
      ]
    },
    {
      "cell_type": "markdown",
      "metadata": {
        "id": "y7PDTokMGVpd"
      },
      "source": [
        "Append Items:\n",
        "\n",
        "To add an item to the end of the list, use the append() method:"
      ]
    },
    {
      "cell_type": "code",
      "metadata": {
        "id": "mDTsumdgGVpd",
        "outputId": "bd23ea96-783f-4501-e27f-17f8734d3272"
      },
      "source": [
        "thislist = [\"apple\", \"banana\", \"cherry\"]\n",
        "thislist.append(\"orange\")\n",
        "print(thislist)"
      ],
      "execution_count": null,
      "outputs": [
        {
          "output_type": "stream",
          "text": [
            "['apple', 'banana', 'cherry', 'orange']\n"
          ],
          "name": "stdout"
        }
      ]
    },
    {
      "cell_type": "markdown",
      "metadata": {
        "id": "v2lvOdRdGVpe"
      },
      "source": [
        "Insert Items:\n",
        "\n",
        "To insert a list item at a specified index, use the insert() method.\n",
        "\n",
        "The insert() method inserts an item at the specified index:"
      ]
    },
    {
      "cell_type": "code",
      "metadata": {
        "id": "44u3oKf8GVpe",
        "outputId": "952d5d4e-0ecc-4501-adfa-7bd59bdb6244"
      },
      "source": [
        "thislist = [\"apple\", \"banana\", \"cherry\"]\n",
        "thislist.insert(1, \"orange\")\n",
        "print(thislist)"
      ],
      "execution_count": null,
      "outputs": [
        {
          "output_type": "stream",
          "text": [
            "['apple', 'orange', 'banana', 'cherry']\n"
          ],
          "name": "stdout"
        }
      ]
    },
    {
      "cell_type": "markdown",
      "metadata": {
        "id": "mrdD9R2XGVpe"
      },
      "source": [
        "Extend List:\n",
        "\n",
        "To append elements from another list to the current list, use the extend() method."
      ]
    },
    {
      "cell_type": "code",
      "metadata": {
        "id": "ef6dpApBGVpf",
        "outputId": "309c96cd-8c28-4806-ffc6-0491e58cceb2"
      },
      "source": [
        "thislist = [\"apple\", \"banana\", \"cherry\"]\n",
        "tropical = [\"mango\", \"pineapple\", \"papaya\"]\n",
        "thislist.extend(tropical)\n",
        "print(thislist)"
      ],
      "execution_count": null,
      "outputs": [
        {
          "output_type": "stream",
          "text": [
            "['apple', 'banana', 'cherry', 'mango', 'pineapple', 'papaya']\n"
          ],
          "name": "stdout"
        }
      ]
    },
    {
      "cell_type": "markdown",
      "metadata": {
        "id": "ARobSTCuGVpf"
      },
      "source": [
        "Remove Specified Item:\n",
        "\n",
        "The remove() method removes the specified item."
      ]
    },
    {
      "cell_type": "code",
      "metadata": {
        "scrolled": true,
        "id": "8XWam0wMGVpg",
        "outputId": "d4b8daec-0c71-4d2f-d491-2d2f67f1400e"
      },
      "source": [
        "thislist = [\"apple\", \"banana\", \"cherry\", \"banana\"]\n",
        "thislist.remove(\"banana\")\n",
        "print(thislist)\n",
        "thislist.remove(\"banana\")\n",
        "print(thislist)\n"
      ],
      "execution_count": null,
      "outputs": [
        {
          "output_type": "stream",
          "text": [
            "['apple', 'cherry', 'banana']\n",
            "['apple', 'cherry']\n"
          ],
          "name": "stdout"
        }
      ]
    },
    {
      "cell_type": "markdown",
      "metadata": {
        "id": "62vhp1LrGVpg"
      },
      "source": [
        "Remove Specified Index:\n",
        "\n",
        "The pop() method removes the specified index."
      ]
    },
    {
      "cell_type": "code",
      "metadata": {
        "id": "DbmvzlNIGVpg",
        "outputId": "7a4465f8-970a-4032-b266-308dc9881f64"
      },
      "source": [
        "thislist = [\"apple\", \"banana\", \"cherry\"]\n",
        "thislist.pop(1)\n",
        "print(thislist)"
      ],
      "execution_count": null,
      "outputs": [
        {
          "output_type": "stream",
          "text": [
            "['apple', 'cherry']\n"
          ],
          "name": "stdout"
        }
      ]
    },
    {
      "cell_type": "markdown",
      "metadata": {
        "id": "1r_CbbuFGVph"
      },
      "source": [
        "If you do not specify the index, the pop() method removes the last item."
      ]
    },
    {
      "cell_type": "code",
      "metadata": {
        "id": "r6NNT0oIGVpi",
        "outputId": "0d5874c5-b6f1-44cb-9255-722cb0973b0a"
      },
      "source": [
        "thislist = [\"apple\", \"banana\", \"cherry\"]\n",
        "thislist.pop()\n",
        "print(thislist)"
      ],
      "execution_count": null,
      "outputs": [
        {
          "output_type": "stream",
          "text": [
            "['apple', 'banana']\n"
          ],
          "name": "stdout"
        }
      ]
    },
    {
      "cell_type": "markdown",
      "metadata": {
        "id": "ZmyjgTPNGVpj"
      },
      "source": [
        "The del keyword also removes the specified index:"
      ]
    },
    {
      "cell_type": "code",
      "metadata": {
        "id": "RpXyneYmGVpj",
        "outputId": "a3ccbc08-ff62-4a57-83a5-28fe5ff76cd5"
      },
      "source": [
        "thislist = [\"apple\", \"banana\", \"cherry\"]\n",
        "del thislist[0]\n",
        "print(thislist)"
      ],
      "execution_count": null,
      "outputs": [
        {
          "output_type": "stream",
          "text": [
            "['banana', 'cherry']\n"
          ],
          "name": "stdout"
        }
      ]
    },
    {
      "cell_type": "markdown",
      "metadata": {
        "id": "zpvseO9vGVpl"
      },
      "source": [
        "The del keyword can also delete the list completely."
      ]
    },
    {
      "cell_type": "code",
      "metadata": {
        "id": "RgBQ5OBvGVpl"
      },
      "source": [
        "thislist = [\"apple\", \"banana\", \"cherry\"]\n",
        "del thislist"
      ],
      "execution_count": null,
      "outputs": []
    },
    {
      "cell_type": "markdown",
      "metadata": {
        "id": "6-QNWXU-GVpm"
      },
      "source": [
        "Clear the List:\n",
        "\n",
        "The clear() method empties the list.\n",
        "\n",
        "The list still remains, but it has no content."
      ]
    },
    {
      "cell_type": "code",
      "metadata": {
        "id": "sgOHfJEQGVpm",
        "outputId": "a41edf71-ecd5-4065-aeb2-f9d00df8fe68"
      },
      "source": [
        "thislist = [\"apple\", \"banana\", \"cherry\"]\n",
        "thislist.clear()\n",
        "print(thislist)"
      ],
      "execution_count": null,
      "outputs": [
        {
          "output_type": "stream",
          "text": [
            "[]\n"
          ],
          "name": "stdout"
        }
      ]
    },
    {
      "cell_type": "markdown",
      "metadata": {
        "id": "ls_ZftNqGVpn"
      },
      "source": [
        "Sort List Alphanumerically:\n",
        "\n",
        "List objects have a sort() method that will sort the list alphanumerically, ascending, by default:"
      ]
    },
    {
      "cell_type": "code",
      "metadata": {
        "id": "J3oHGvCTGVpn",
        "outputId": "7a9f1d46-5dc3-4011-a1fc-2f69daa5db40"
      },
      "source": [
        "thislist = [\"orange\", \"mango\", \"kiwi\", \"pineapple\", \"banana\"]\n",
        "thislist.sort()\n",
        "print(thislist)"
      ],
      "execution_count": null,
      "outputs": [
        {
          "output_type": "stream",
          "text": [
            "['banana', 'kiwi', 'mango', 'orange', 'pineapple']\n"
          ],
          "name": "stdout"
        }
      ]
    },
    {
      "cell_type": "markdown",
      "metadata": {
        "id": "6NRhLOe2GVpo"
      },
      "source": [
        "Sort Descending:\n",
        "\n",
        "To sort descending, use the keyword argument reverse = True:"
      ]
    },
    {
      "cell_type": "code",
      "metadata": {
        "id": "vsT5W-z_GVpo",
        "outputId": "c7ba8cff-f971-4c81-8d4d-e3e4069404ca"
      },
      "source": [
        "thislist = [\"orange\", \"mango\", \"kiwi\", \"pineapple\", \"banana\"]\n",
        "thislist.sort(reverse = True) #activate the reverse paramter inside the sort method\n",
        "print(thislist)"
      ],
      "execution_count": null,
      "outputs": [
        {
          "output_type": "stream",
          "text": [
            "['pineapple', 'orange', 'mango', 'kiwi', 'banana']\n"
          ],
          "name": "stdout"
        }
      ]
    },
    {
      "cell_type": "code",
      "metadata": {
        "id": "u0sujXahGVpp",
        "outputId": "131cd6d9-57e9-4ecd-8759-3abf1e47bfd5"
      },
      "source": [
        "thislist = [100, 50, 65, 82, 23]\n",
        "thislist.sort(reverse = True)\n",
        "print(thislist)"
      ],
      "execution_count": null,
      "outputs": [
        {
          "output_type": "stream",
          "text": [
            "[100, 82, 65, 50, 23]\n"
          ],
          "name": "stdout"
        }
      ]
    },
    {
      "cell_type": "markdown",
      "metadata": {
        "id": "jInXYgToGVpp"
      },
      "source": [
        "Case Insensitive Sort:\n",
        "\n",
        "By default the sort() method is case sensitive, resulting in all capital letters being sorted before lower case letters:"
      ]
    },
    {
      "cell_type": "code",
      "metadata": {
        "id": "Rr55muQ1GVpq",
        "outputId": "bc6327a1-dfb3-47e6-88bb-487591fe0046"
      },
      "source": [
        "thislist = [\"banana\", \"Orange\", \"Kiwi\", \"cherry\"]\n",
        "thislist.sort()\n",
        "print(thislist)"
      ],
      "execution_count": null,
      "outputs": [
        {
          "output_type": "stream",
          "text": [
            "['Kiwi', 'Orange', 'banana', 'cherry']\n"
          ],
          "name": "stdout"
        }
      ]
    },
    {
      "cell_type": "markdown",
      "metadata": {
        "id": "MvvAjBmrGVpq"
      },
      "source": [
        "Luckily we can use built-in functions as key functions when sorting a list.\n",
        "\n",
        "So if you want a case-insensitive sort function, use str.lower as a key function:"
      ]
    },
    {
      "cell_type": "code",
      "metadata": {
        "id": "x742J1a3GVpr",
        "outputId": "59dac1f5-e206-40ec-f99f-a29c797edb8f"
      },
      "source": [
        "thislist = [\"banana\", \"Orange\", \"Kiwi\", \"cherry\"]\n",
        "thislist.sort(key = str.lower)\n",
        "print(thislist)"
      ],
      "execution_count": null,
      "outputs": [
        {
          "output_type": "stream",
          "text": [
            "['banana', 'cherry', 'Kiwi', 'Orange']\n"
          ],
          "name": "stdout"
        }
      ]
    },
    {
      "cell_type": "markdown",
      "metadata": {
        "id": "KXDP6SENGVpr"
      },
      "source": [
        "Reverse Order:\n",
        "\n",
        "What if you want to reverse the order of a list, regardless of the alphabet?\n",
        "\n",
        "The reverse() method reverses the current sorting order of the elements."
      ]
    },
    {
      "cell_type": "code",
      "metadata": {
        "id": "ujbkXm4dGVpr",
        "outputId": "66ab5e5d-b915-4b17-b0b6-d46ef733c9a8"
      },
      "source": [
        "thislist = [\"banana\", \"Orange\", \"Kiwi\", \"cherry\"]\n",
        "thislist.reverse()\n",
        "print(thislist)"
      ],
      "execution_count": null,
      "outputs": [
        {
          "output_type": "stream",
          "text": [
            "['cherry', 'Kiwi', 'Orange', 'banana']\n"
          ],
          "name": "stdout"
        }
      ]
    },
    {
      "cell_type": "markdown",
      "metadata": {
        "id": "PEsECklrGVps"
      },
      "source": [
        "Copy a List:\n",
        "\n",
        "You cannot copy a list simply by typing list2 = list1, because: list2 will only be a reference to list1, and changes made in list1 will automatically also be made in list2.\n",
        "\n",
        "There are ways to make a copy, one way is to use the built-in List method copy()."
      ]
    },
    {
      "cell_type": "code",
      "metadata": {
        "id": "uYCNSEQBGVps",
        "outputId": "6b314b4f-203c-4047-d8fd-e9330d397b82"
      },
      "source": [
        "thislist = [\"apple\", \"banana\", \"cherry\"]\n",
        "mylist = thislist.copy()\n",
        "print(mylist)"
      ],
      "execution_count": null,
      "outputs": [
        {
          "output_type": "stream",
          "text": [
            "['apple', 'banana', 'cherry']\n"
          ],
          "name": "stdout"
        }
      ]
    },
    {
      "cell_type": "markdown",
      "metadata": {
        "id": "t_QLqd4QGVps"
      },
      "source": [
        "Another way to make a copy is to use the built-in method list()."
      ]
    },
    {
      "cell_type": "code",
      "metadata": {
        "id": "dA9Q_HsxGVps",
        "outputId": "08ccd9ed-a6fb-4c25-b411-a16eda70ba4c"
      },
      "source": [
        "thislist = [\"apple\", \"banana\", \"cherry\"]\n",
        "mylist = list(thislist)\n",
        "print(mylist)"
      ],
      "execution_count": null,
      "outputs": [
        {
          "output_type": "stream",
          "text": [
            "['apple', 'banana', 'cherry']\n"
          ],
          "name": "stdout"
        }
      ]
    },
    {
      "cell_type": "markdown",
      "metadata": {
        "id": "Ks5Q_0k9GVpt"
      },
      "source": [
        "Join Two Lists\n",
        "\n",
        "There are several ways to join, or concatenate, two or more lists in Python.\n",
        "\n",
        "One of the easiest ways are by using the + operator."
      ]
    },
    {
      "cell_type": "code",
      "metadata": {
        "id": "yoGec9GjGVpt",
        "outputId": "25a45c85-8ee9-4fc9-bc79-cd17349d50a0"
      },
      "source": [
        "list1 = [\"a\", \"b\", \"c\"]\n",
        "list2 = [1, 2, 3]\n",
        "\n",
        "list3 = list1 + list2\n",
        "print(list3)"
      ],
      "execution_count": null,
      "outputs": [
        {
          "output_type": "stream",
          "text": [
            "['a', 'b', 'c', 1, 2, 3]\n"
          ],
          "name": "stdout"
        }
      ]
    },
    {
      "cell_type": "markdown",
      "metadata": {
        "id": "HbO8VxlBGVpu"
      },
      "source": [
        "Or you can use the extend() method, which purpose is to add elements from one list to another list:"
      ]
    },
    {
      "cell_type": "code",
      "metadata": {
        "id": "kU_LFT2eGVpu",
        "outputId": "15f06868-3077-4cb0-ca63-615a40d3a5aa"
      },
      "source": [
        "list1 = [\"a\", \"b\" , \"c\"]\n",
        "list2 = [1, 2, 3]\n",
        "\n",
        "list1.extend(list2)\n",
        "print(list1)"
      ],
      "execution_count": null,
      "outputs": [
        {
          "output_type": "stream",
          "text": [
            "['a', 'b', 'c', 1, 2, 3]\n"
          ],
          "name": "stdout"
        }
      ]
    },
    {
      "cell_type": "markdown",
      "metadata": {
        "id": "noy9ycMbGVpu"
      },
      "source": [
        "Tuple:\n",
        "\n",
        "Tuples are used to store multiple items in a single variable.\n",
        "\n",
        "Tuple is one of 4 built-in data types in Python used to store collections of data, the other 3 are List, Set, and Dictionary, all with different qualities and usage.\n",
        "\n",
        "A tuple is a collection which is ordered and unchangeable.\n",
        "\n",
        "Tuples are written with round brackets."
      ]
    },
    {
      "cell_type": "code",
      "metadata": {
        "scrolled": true,
        "id": "TrkAGprvGVpu",
        "outputId": "0647dc1b-d3a6-479e-cb8a-580e8e221d0a"
      },
      "source": [
        "thistuple = (\"apple\", \"banana\", \"cherry\")\n",
        "print(thistuple)"
      ],
      "execution_count": null,
      "outputs": [
        {
          "output_type": "stream",
          "text": [
            "('apple', 'banana', 'cherry')\n"
          ],
          "name": "stdout"
        }
      ]
    },
    {
      "cell_type": "markdown",
      "metadata": {
        "id": "Y9ewEnN9GVpv"
      },
      "source": [
        "Tuple Items:\n",
        "\n",
        "Tuple items are ordered, unchangeable, and allow duplicate values.\n",
        "\n",
        "Tuple items are indexed, the first item has index [0], the second item has index [1] etc.\n",
        "\n",
        "Ordered:\n",
        "\n",
        "When we say that tuples are ordered, it means that the items have a defined order, and that order will not change.\n",
        "\n",
        "Unchangeable:\n",
        "\n",
        "Tuples are unchangeable, meaning that we cannot change, add or remove items after the tuple has been created.\n",
        "\n",
        "Allow Duplicates:\n",
        "\n",
        "Since tuple are indexed, tuples can have items with the same value:"
      ]
    },
    {
      "cell_type": "code",
      "metadata": {
        "id": "oGkHMm-SGVpv",
        "outputId": "36795afd-b3a7-456b-a6f0-da9567a4094f"
      },
      "source": [
        "thistuple = (\"apple\", \"banana\", \"cherry\", \"apple\", \"cherry\")\n",
        "print(thistuple)"
      ],
      "execution_count": null,
      "outputs": [
        {
          "output_type": "stream",
          "text": [
            "('apple', 'banana', 'cherry', 'apple', 'cherry')\n"
          ],
          "name": "stdout"
        }
      ]
    },
    {
      "cell_type": "markdown",
      "metadata": {
        "id": "qjEdRq8mGVpv"
      },
      "source": [
        "Tuple Length:\n",
        "\n",
        "To determine how many items a tuple has, use the len() function:"
      ]
    },
    {
      "cell_type": "code",
      "metadata": {
        "id": "kAz7a5XRGVpw",
        "outputId": "1a0bb2b4-a5c9-4643-9986-f3847ee9c4ae"
      },
      "source": [
        "thistuple = (\"apple\", \"banana\", \"cherry\")\n",
        "print(len(thistuple))"
      ],
      "execution_count": null,
      "outputs": [
        {
          "output_type": "stream",
          "text": [
            "3\n"
          ],
          "name": "stdout"
        }
      ]
    },
    {
      "cell_type": "markdown",
      "metadata": {
        "id": "bJfuUXvTGVpw"
      },
      "source": [
        "Create Tuple With One Item:\n",
        "\n",
        "To create a tuple with only one item, you have to add a comma after the item, otherwise Python will not recognize it as a tuple."
      ]
    },
    {
      "cell_type": "code",
      "metadata": {
        "id": "ZqQoxA0pGVpx",
        "outputId": "6f3b3e91-f5f3-494a-b005-ccb05a914e9f"
      },
      "source": [
        "thistuple = (\"apple\",)\n",
        "print(type(thistuple))\n",
        "\n",
        "#NOT a tuple\n",
        "thistuple = (\"apple\")\n",
        "print(type(thistuple))"
      ],
      "execution_count": null,
      "outputs": [
        {
          "output_type": "stream",
          "text": [
            "<class 'tuple'>\n",
            "<class 'str'>\n"
          ],
          "name": "stdout"
        }
      ]
    },
    {
      "cell_type": "markdown",
      "metadata": {
        "id": "sI9KNT4LGVpx"
      },
      "source": [
        "Tuple Items - Data Types:\n",
        "\n",
        "Tuple items can be of any data type:"
      ]
    },
    {
      "cell_type": "code",
      "metadata": {
        "id": "vzWUip-1GVpy"
      },
      "source": [
        "tuple1 = (\"apple\", \"banana\", \"cherry\")\n",
        "tuple2 = (1, 5, 7, 9, 3)\n",
        "tuple3 = (True, False, False)"
      ],
      "execution_count": null,
      "outputs": []
    },
    {
      "cell_type": "markdown",
      "metadata": {
        "id": "bu6VwNCDGVpy"
      },
      "source": [
        "A tuple can contain different data types:"
      ]
    },
    {
      "cell_type": "code",
      "metadata": {
        "id": "mHwlssX0GVpy"
      },
      "source": [
        "tuple1 = (\"abc\", 34, True, 40, \"male\")"
      ],
      "execution_count": null,
      "outputs": []
    },
    {
      "cell_type": "markdown",
      "metadata": {
        "id": "iaoIKmNHGVpy"
      },
      "source": [
        "The tuple() Constructor:\n",
        "\n",
        "It is also possible to use the tuple() constructor to make a tuple."
      ]
    },
    {
      "cell_type": "code",
      "metadata": {
        "id": "wqbQbeqqGVpz",
        "outputId": "34eaa0b9-a697-4edb-ad0f-830c9d27776f"
      },
      "source": [
        "thistuple = tuple((\"apple\", \"banana\", \"cherry\")) # note the double round-brackets\n",
        "print(thistuple)"
      ],
      "execution_count": null,
      "outputs": [
        {
          "output_type": "stream",
          "text": [
            "('apple', 'banana', 'cherry')\n"
          ],
          "name": "stdout"
        }
      ]
    },
    {
      "cell_type": "markdown",
      "metadata": {
        "id": "xryBC_QwGVpz"
      },
      "source": [
        "Access Tuple Items:\n",
        "\n",
        "You can access tuple items by referring to the index number, inside square brackets:"
      ]
    },
    {
      "cell_type": "code",
      "metadata": {
        "id": "fA5cgDAWGVp0",
        "outputId": "df0d3121-f50d-4474-bbf7-e7bc93414752"
      },
      "source": [
        "thistuple = (\"apple\", \"banana\", \"cherry\")\n",
        "print(thistuple[1])"
      ],
      "execution_count": null,
      "outputs": [
        {
          "output_type": "stream",
          "text": [
            "banana\n"
          ],
          "name": "stdout"
        }
      ]
    },
    {
      "cell_type": "markdown",
      "metadata": {
        "id": "o_sptAhcGVp1"
      },
      "source": [
        "Negative Indexing:\n",
        "\n",
        "Negative indexing means start from the end.\n",
        "\n",
        "-1 refers to the last item, -2 refers to the second last item etc."
      ]
    },
    {
      "cell_type": "code",
      "metadata": {
        "id": "Mj3VAn0MGVp1",
        "outputId": "036b5cb0-6e2e-42c5-eaa3-58e642e6380f"
      },
      "source": [
        "thistuple = (\"apple\", \"banana\", \"cherry\")\n",
        "print(thistuple[-1])"
      ],
      "execution_count": null,
      "outputs": [
        {
          "output_type": "stream",
          "text": [
            "cherry\n"
          ],
          "name": "stdout"
        }
      ]
    },
    {
      "cell_type": "markdown",
      "metadata": {
        "id": "ajgmRZbnGVp2"
      },
      "source": [
        "Range of Indexes:\n",
        "\n",
        "You can specify a range of indexes by specifying where to start and where to end the range.\n",
        "\n",
        "When specifying a range, the return value will be a new tuple with the specified items."
      ]
    },
    {
      "cell_type": "code",
      "metadata": {
        "id": "YqBn1UgpGVp2",
        "outputId": "d6cabaad-9ab4-4a9f-ebe0-2bc9a15014df"
      },
      "source": [
        "thistuple = (\"apple\", \"banana\", \"cherry\", \"orange\", \"kiwi\", \"melon\", \"mango\")\n",
        "print(thistuple[2:5])"
      ],
      "execution_count": null,
      "outputs": [
        {
          "output_type": "stream",
          "text": [
            "('cherry', 'orange', 'kiwi')\n"
          ],
          "name": "stdout"
        }
      ]
    },
    {
      "cell_type": "markdown",
      "metadata": {
        "id": "6W3e3aQBGVp2"
      },
      "source": [
        "Range of Negative Indexes:\n",
        "\n",
        "Specify negative indexes if you want to start the search from the end of the tuple:"
      ]
    },
    {
      "cell_type": "code",
      "metadata": {
        "id": "CtKu303XGVp3",
        "outputId": "ad15c7d4-19b6-4f09-b379-c2c1a0401da5"
      },
      "source": [
        "thistuple = (\"apple\", \"banana\", \"cherry\", \"orange\", \"kiwi\", \"melon\", \"mango\")\n",
        "print(thistuple[-4:-1])"
      ],
      "execution_count": null,
      "outputs": [
        {
          "output_type": "stream",
          "text": [
            "('orange', 'kiwi', 'melon')\n"
          ],
          "name": "stdout"
        }
      ]
    },
    {
      "cell_type": "markdown",
      "metadata": {
        "id": "ZDgBob0wGVp3"
      },
      "source": [
        "Change Tuple Values:\n",
        "\n",
        "Once a tuple is created, you cannot change its values. Tuples are unchangeable, or immutable as it also is called.\n",
        "\n",
        "But there is a workaround. You can convert the tuple into a list, change the list, and convert the list back into a tuple."
      ]
    },
    {
      "cell_type": "code",
      "metadata": {
        "id": "_HCPyXG3GVp4",
        "outputId": "3579c20e-cc31-4371-b935-0d8efeb68da6"
      },
      "source": [
        "x = (\"apple\", \"banana\", \"cherry\")\n",
        "y = list(x)\n",
        "y[1] = \"kiwi\"\n",
        "x = tuple(y)\n",
        "\n",
        "print(x)"
      ],
      "execution_count": null,
      "outputs": [
        {
          "output_type": "stream",
          "text": [
            "('apple', 'kiwi', 'cherry')\n"
          ],
          "name": "stdout"
        }
      ]
    },
    {
      "cell_type": "markdown",
      "metadata": {
        "id": "iaflVMQSGVp5"
      },
      "source": [
        "Add Items:\n",
        "\n",
        "Once a tuple is created, you cannot add items to it."
      ]
    },
    {
      "cell_type": "code",
      "metadata": {
        "id": "UP1Y7KJUGVp5",
        "outputId": "0ec6d106-f4ba-47df-c978-255da87598a0"
      },
      "source": [
        "thistuple = (\"apple\", \"banana\", \"cherry\")\n",
        "thistuple.append(\"orange\") # This will raise an error\n",
        "print(thistuple)"
      ],
      "execution_count": null,
      "outputs": [
        {
          "output_type": "error",
          "ename": "AttributeError",
          "evalue": "'tuple' object has no attribute 'append'",
          "traceback": [
            "\u001b[1;31m---------------------------------------------------------------------------\u001b[0m",
            "\u001b[1;31mAttributeError\u001b[0m                            Traceback (most recent call last)",
            "\u001b[1;32m<ipython-input-10-e438d96bc894>\u001b[0m in \u001b[0;36m<module>\u001b[1;34m\u001b[0m\n\u001b[0;32m      1\u001b[0m \u001b[0mthistuple\u001b[0m \u001b[1;33m=\u001b[0m \u001b[1;33m(\u001b[0m\u001b[1;34m\"apple\"\u001b[0m\u001b[1;33m,\u001b[0m \u001b[1;34m\"banana\"\u001b[0m\u001b[1;33m,\u001b[0m \u001b[1;34m\"cherry\"\u001b[0m\u001b[1;33m)\u001b[0m\u001b[1;33m\u001b[0m\u001b[1;33m\u001b[0m\u001b[0m\n\u001b[1;32m----> 2\u001b[1;33m \u001b[0mthistuple\u001b[0m\u001b[1;33m.\u001b[0m\u001b[0mappend\u001b[0m\u001b[1;33m(\u001b[0m\u001b[1;34m\"orange\"\u001b[0m\u001b[1;33m)\u001b[0m \u001b[1;31m# This will raise an error\u001b[0m\u001b[1;33m\u001b[0m\u001b[1;33m\u001b[0m\u001b[0m\n\u001b[0m\u001b[0;32m      3\u001b[0m \u001b[0mprint\u001b[0m\u001b[1;33m(\u001b[0m\u001b[0mthistuple\u001b[0m\u001b[1;33m)\u001b[0m\u001b[1;33m\u001b[0m\u001b[1;33m\u001b[0m\u001b[0m\n",
            "\u001b[1;31mAttributeError\u001b[0m: 'tuple' object has no attribute 'append'"
          ]
        }
      ]
    },
    {
      "cell_type": "markdown",
      "metadata": {
        "id": "X-A8kS87GVp6"
      },
      "source": [
        "Just like the workaround for changing a tuple, you can convert it into a list, add your item(s), and convert it back into a tuple."
      ]
    },
    {
      "cell_type": "code",
      "metadata": {
        "id": "LTuKrQehGVp7",
        "outputId": "254da44e-f8e5-41e8-8676-25dea2d45b67"
      },
      "source": [
        "thistuple = (\"apple\", \"banana\", \"cherry\")\n",
        "y = list(thistuple)\n",
        "y.append(\"orange\")\n",
        "thistuple = tuple(y)\n",
        "\n",
        "print(thistuple)"
      ],
      "execution_count": null,
      "outputs": [
        {
          "output_type": "stream",
          "text": [
            "('apple', 'banana', 'cherry', 'orange')\n"
          ],
          "name": "stdout"
        }
      ]
    },
    {
      "cell_type": "markdown",
      "metadata": {
        "id": "T5_viwcIGVp7"
      },
      "source": [
        "Remove Items:\n",
        "\n",
        "Tuples are unchangeable, so you cannot remove items from it, but you can use the same workaround as we used for changing and adding tuple items:"
      ]
    },
    {
      "cell_type": "code",
      "metadata": {
        "id": "5xFOpnWfGVp8",
        "outputId": "22d270c7-027b-4c6e-9463-a807965f2422"
      },
      "source": [
        "thistuple = (\"apple\", \"banana\", \"cherry\")\n",
        "y = list(thistuple)\n",
        "y.remove(\"apple\")\n",
        "thistuple = tuple(y)\n",
        "\n",
        "print(thistuple)"
      ],
      "execution_count": null,
      "outputs": [
        {
          "output_type": "stream",
          "text": [
            "('banana', 'cherry')\n"
          ],
          "name": "stdout"
        }
      ]
    },
    {
      "cell_type": "markdown",
      "metadata": {
        "id": "jEHOgKAVGVp8"
      },
      "source": [
        "Or you can delete the tuple completely:"
      ]
    },
    {
      "cell_type": "code",
      "metadata": {
        "id": "6CzsUb-3GVp8",
        "outputId": "df78ef66-8346-4ece-8484-92610be80844"
      },
      "source": [
        "thistuple = (\"apple\", \"banana\", \"cherry\")\n",
        "print(thistuple)\n",
        "del thistuple\n",
        "print(thistuple) #this will raise an error because the tuple no longer exists"
      ],
      "execution_count": null,
      "outputs": [
        {
          "output_type": "stream",
          "text": [
            "('apple', 'banana', 'cherry')\n"
          ],
          "name": "stdout"
        },
        {
          "output_type": "error",
          "ename": "NameError",
          "evalue": "name 'thistuple' is not defined",
          "traceback": [
            "\u001b[1;31m---------------------------------------------------------------------------\u001b[0m",
            "\u001b[1;31mNameError\u001b[0m                                 Traceback (most recent call last)",
            "\u001b[1;32m<ipython-input-17-97c41fc40ce8>\u001b[0m in \u001b[0;36m<module>\u001b[1;34m\u001b[0m\n\u001b[0;32m      2\u001b[0m \u001b[0mprint\u001b[0m\u001b[1;33m(\u001b[0m\u001b[0mthistuple\u001b[0m\u001b[1;33m)\u001b[0m\u001b[1;33m\u001b[0m\u001b[1;33m\u001b[0m\u001b[0m\n\u001b[0;32m      3\u001b[0m \u001b[1;32mdel\u001b[0m \u001b[0mthistuple\u001b[0m\u001b[1;33m\u001b[0m\u001b[1;33m\u001b[0m\u001b[0m\n\u001b[1;32m----> 4\u001b[1;33m \u001b[0mprint\u001b[0m\u001b[1;33m(\u001b[0m\u001b[0mthistuple\u001b[0m\u001b[1;33m)\u001b[0m \u001b[1;31m#this will raise an error because the tuple no longer exists\u001b[0m\u001b[1;33m\u001b[0m\u001b[1;33m\u001b[0m\u001b[0m\n\u001b[0m",
            "\u001b[1;31mNameError\u001b[0m: name 'thistuple' is not defined"
          ]
        }
      ]
    },
    {
      "cell_type": "markdown",
      "metadata": {
        "id": "fd6RRERfGVp9"
      },
      "source": [
        "Unpacking a Tuple:\n",
        "\n",
        "When we create a tuple, we normally assign values to it. This is called \"packing\" a tuple:\n",
        "\n"
      ]
    },
    {
      "cell_type": "code",
      "metadata": {
        "id": "A7b3-K1SGVp9",
        "outputId": "03f74473-4a26-47b9-94f3-f4be128252ae"
      },
      "source": [
        "fruits = (\"apple\", \"banana\", \"cherry\")\n",
        "\n",
        "print(fruits)"
      ],
      "execution_count": null,
      "outputs": [
        {
          "output_type": "stream",
          "text": [
            "('apple', 'banana', 'cherry')\n"
          ],
          "name": "stdout"
        }
      ]
    },
    {
      "cell_type": "markdown",
      "metadata": {
        "id": "UsuEqYPKGVp9"
      },
      "source": [
        "But, in Python, we are also allowed to extract the values back into variables. This is called \"unpacking\":"
      ]
    },
    {
      "cell_type": "code",
      "metadata": {
        "id": "sHbbhUVBGVp9",
        "outputId": "74449874-7fca-4604-f0d7-c49930431b40"
      },
      "source": [
        "fruits = (\"apple\", \"banana\", \"cherry\")\n",
        "\n",
        "(green, yellow, red) = fruits\n",
        "\n",
        "print(green)\n",
        "print(yellow)\n",
        "print(red)"
      ],
      "execution_count": null,
      "outputs": [
        {
          "output_type": "stream",
          "text": [
            "apple\n",
            "banana\n",
            "cherry\n"
          ],
          "name": "stdout"
        }
      ]
    },
    {
      "cell_type": "markdown",
      "metadata": {
        "id": "zsPIbD72GVp-"
      },
      "source": [
        "Join Two Tuples:\n",
        "    \n",
        "To join two or more tuples you can use the + operator:"
      ]
    },
    {
      "cell_type": "code",
      "metadata": {
        "id": "jMS77g5QGVp-",
        "outputId": "e03fbf39-c30a-4aee-eb2a-21f641206213"
      },
      "source": [
        "tuple1 = (\"a\", \"b\" , \"c\")\n",
        "tuple2 = (1, 2, 3)\n",
        "\n",
        "tuple3 = tuple1 + tuple2\n",
        "print(tuple3)"
      ],
      "execution_count": null,
      "outputs": [
        {
          "output_type": "stream",
          "text": [
            "('a', 'b', 'c', 1, 2, 3)\n"
          ],
          "name": "stdout"
        }
      ]
    },
    {
      "cell_type": "markdown",
      "metadata": {
        "id": "jkGrsYKxGVp-"
      },
      "source": [
        "Multiply Tuples\n",
        "\n",
        "If you want to multiply the content of a tuple a given number of times, you can use the * operator:"
      ]
    },
    {
      "cell_type": "code",
      "metadata": {
        "id": "JWoJspHSGVp_",
        "outputId": "12e68746-dc05-4220-8ccd-3249675764ce"
      },
      "source": [
        "fruits = (\"apple\", \"banana\", \"cherry\")\n",
        "mytuple = fruits * 4\n",
        "\n",
        "print(mytuple)"
      ],
      "execution_count": null,
      "outputs": [
        {
          "output_type": "stream",
          "text": [
            "('apple', 'banana', 'cherry', 'apple', 'banana', 'cherry', 'apple', 'banana', 'cherry', 'apple', 'banana', 'cherry')\n"
          ],
          "name": "stdout"
        }
      ]
    },
    {
      "cell_type": "markdown",
      "metadata": {
        "id": "LpPb8V7jGVp_"
      },
      "source": [
        "Set:\n",
        "\n",
        "Sets are used to store multiple items in a single variable.\n",
        "\n",
        "Set is one of 4 built-in data types in Python used to store collections of data, the other 3 are List, Tuple, and Dictionary, all with different qualities and usage.\n",
        "\n",
        "A set is a collection which is both unordered and unindexed.\n",
        "\n",
        "Sets are written with curly brackets."
      ]
    },
    {
      "cell_type": "code",
      "metadata": {
        "id": "0qUPx1SFGVp_",
        "outputId": "9222b8bd-8e8b-4d87-dd72-5e3cddd87c44"
      },
      "source": [
        "thisset = {\"apple\", \"banana\", \"cherry\"}\n",
        "print(thisset)"
      ],
      "execution_count": null,
      "outputs": [
        {
          "output_type": "stream",
          "text": [
            "{'apple', 'banana', 'cherry'}\n"
          ],
          "name": "stdout"
        }
      ]
    },
    {
      "cell_type": "markdown",
      "metadata": {
        "id": "3MAxKCcdGVp_"
      },
      "source": [
        "Set Items\n",
        "\n",
        "Set items are unordered, unchangeable, and do not allow duplicate values.\n",
        "\n",
        "Unordered\n",
        "\n",
        "Unordered means that the items in a set do not have a defined order.\n",
        "\n",
        "Set items can appear in a different order every time you use them, and cannot be referred to by index or key.\n",
        "\n",
        "Unchangeable\n",
        "\n",
        "Sets are unchangeable, meaning that we cannot change the items after the set has been created.\n",
        "\n",
        "####Once a set is created, you cannot change its items, but you can add new items."
      ]
    },
    {
      "cell_type": "markdown",
      "metadata": {
        "id": "viEXT1H8GVqA"
      },
      "source": [
        "Duplicates Not Allowed:\n",
        "\n",
        "Sets cannot have two items with the same value."
      ]
    },
    {
      "cell_type": "code",
      "metadata": {
        "id": "dZcMuUNqGVqA",
        "outputId": "33eb91f4-b5c3-48d4-cf60-dc9b2707bd22"
      },
      "source": [
        "thisset = {\"apple\", \"banana\", \"cherry\", \"apple\"}\n",
        "\n",
        "print(thisset)"
      ],
      "execution_count": null,
      "outputs": [
        {
          "output_type": "stream",
          "text": [
            "{'apple', 'banana', 'cherry'}\n"
          ],
          "name": "stdout"
        }
      ]
    },
    {
      "cell_type": "markdown",
      "metadata": {
        "id": "Q2AcIW_3GVqA"
      },
      "source": [
        "Get the Length of a Set:\n",
        "\n",
        "To determine how many items a set has, use the len() method."
      ]
    },
    {
      "cell_type": "code",
      "metadata": {
        "id": "kk8CfW05GVqB",
        "outputId": "511200f9-0f39-45d4-ff8e-d847b2e59b49"
      },
      "source": [
        "thisset = {\"apple\", \"banana\", \"cherry\"}\n",
        "\n",
        "print(len(thisset))"
      ],
      "execution_count": null,
      "outputs": [
        {
          "output_type": "stream",
          "text": [
            "3\n"
          ],
          "name": "stdout"
        }
      ]
    },
    {
      "cell_type": "markdown",
      "metadata": {
        "id": "hO1_lSeLGVqB"
      },
      "source": [
        "Set Items - Data Types:\n",
        "\n",
        "Set items can be of any data type"
      ]
    },
    {
      "cell_type": "code",
      "metadata": {
        "id": "ev3y_2O6GVqC",
        "outputId": "4a8b03fd-3c0e-40a9-ecae-8a6d72f6ac20"
      },
      "source": [
        "set1 = {\"apple\", \"banana\", \"cherry\"}\n",
        "set2 = {1, 5, 7, 9, 3}\n",
        "set3 = {True, False, False}\n",
        "\n",
        "print(set1)\n",
        "print(set2)\n",
        "print(set3)"
      ],
      "execution_count": null,
      "outputs": [
        {
          "output_type": "stream",
          "text": [
            "{'apple', 'banana', 'cherry'}\n",
            "{1, 3, 5, 7, 9}\n",
            "{False, True}\n"
          ],
          "name": "stdout"
        }
      ]
    },
    {
      "cell_type": "markdown",
      "metadata": {
        "id": "xccprLxUGVqD"
      },
      "source": [
        "A set can contain different data types:"
      ]
    },
    {
      "cell_type": "code",
      "metadata": {
        "id": "TX28Fjy8GVqD",
        "outputId": "c365cacc-1bbd-487a-ce91-622e7e167124"
      },
      "source": [
        "set1 = {\"abc\", 34, True, 40, \"male\"}\n",
        "\n",
        "print(set1)\n"
      ],
      "execution_count": null,
      "outputs": [
        {
          "output_type": "stream",
          "text": [
            "{True, 34, 40, 'male', 'abc'}\n"
          ],
          "name": "stdout"
        }
      ]
    },
    {
      "cell_type": "markdown",
      "metadata": {
        "id": "6U9SM-JIGVqE"
      },
      "source": [
        "Add Items\n",
        "\n",
        "Once a set is created, you cannot change its items, but you can add new items.\n",
        "\n",
        "To add one item to a set use the add() method."
      ]
    },
    {
      "cell_type": "code",
      "metadata": {
        "id": "tnZWAwxtGVqE",
        "outputId": "bbb67c9f-2983-47bf-eb90-b09c99b5266d"
      },
      "source": [
        "thisset = {\"apple\", \"banana\", \"cherry\"}\n",
        "\n",
        "thisset.add(\"orange\")\n",
        "\n",
        "print(thisset)"
      ],
      "execution_count": null,
      "outputs": [
        {
          "output_type": "stream",
          "text": [
            "{'orange', 'apple', 'banana', 'cherry'}\n"
          ],
          "name": "stdout"
        }
      ]
    },
    {
      "cell_type": "markdown",
      "metadata": {
        "id": "kTNKJFjHGVqF"
      },
      "source": [
        "Add Sets:\n",
        "\n",
        "To add items from another set into the current set, use the update() method."
      ]
    },
    {
      "cell_type": "code",
      "metadata": {
        "id": "sQTwb71QGVqF",
        "outputId": "0f40dad8-e3ed-4c18-a718-2ea0c126cef8"
      },
      "source": [
        "thisset = {\"apple\", \"banana\", \"cherry\"}\n",
        "tropical = {\"pineapple\", \"mango\", \"papaya\"}\n",
        "\n",
        "thisset.update(tropical)\n",
        "\n",
        "print(thisset)"
      ],
      "execution_count": null,
      "outputs": [
        {
          "output_type": "stream",
          "text": [
            "{'mango', 'papaya', 'pineapple', 'apple', 'banana', 'cherry'}\n"
          ],
          "name": "stdout"
        }
      ]
    },
    {
      "cell_type": "markdown",
      "metadata": {
        "id": "WRwKZOU5GVqG"
      },
      "source": [
        "Add Any Iterable\n",
        "\n",
        "The object in the update() method does not have be a set, it can be any iterable object (tuples, lists, dictionaries etc.)."
      ]
    },
    {
      "cell_type": "code",
      "metadata": {
        "id": "u_AMz3zmGVqH",
        "outputId": "0afd406a-353a-459d-923d-197c2a3b0455"
      },
      "source": [
        "thisset = {\"apple\", \"banana\", \"cherry\"}\n",
        "mylist = [\"kiwi\", \"orange\"]\n",
        "\n",
        "thisset.update(mylist)\n",
        "\n",
        "print(thisset)"
      ],
      "execution_count": null,
      "outputs": [
        {
          "output_type": "stream",
          "text": [
            "{'banana', 'orange', 'kiwi', 'apple', 'cherry'}\n"
          ],
          "name": "stdout"
        }
      ]
    },
    {
      "cell_type": "markdown",
      "metadata": {
        "id": "963xw7GMGVqH"
      },
      "source": [
        "Remove Item:\n",
        "\n",
        "To remove an item in a set, use the remove(), or the discard() method."
      ]
    },
    {
      "cell_type": "code",
      "metadata": {
        "id": "i9tWh9esGVqI",
        "outputId": "78b4fb37-4cbe-4b46-b64b-b27f1eeab4aa"
      },
      "source": [
        "thisset = {\"apple\", \"banana\", \"cherry\"}\n",
        "\n",
        "thisset.remove(\"banana\")\n",
        "\n",
        "print(thisset)"
      ],
      "execution_count": null,
      "outputs": [
        {
          "output_type": "stream",
          "text": [
            "{'apple', 'cherry'}\n"
          ],
          "name": "stdout"
        }
      ]
    },
    {
      "cell_type": "markdown",
      "metadata": {
        "id": "xhlZZi-PGVqJ"
      },
      "source": [
        "Remove \"banana\" by using the discard() method:\n"
      ]
    },
    {
      "cell_type": "code",
      "metadata": {
        "id": "9LM3YXv8GVqJ",
        "outputId": "285480ac-79cd-4a19-f82c-58abe9309cb4"
      },
      "source": [
        "thisset = {\"apple\", \"banana\", \"cherry\"}\n",
        "\n",
        "thisset.discard(\"banana\")\n",
        "\n",
        "print(thisset)"
      ],
      "execution_count": null,
      "outputs": [
        {
          "output_type": "stream",
          "text": [
            "{'apple', 'cherry'}\n"
          ],
          "name": "stdout"
        }
      ]
    },
    {
      "cell_type": "markdown",
      "metadata": {
        "id": "uC-iv_2PGVqK"
      },
      "source": [
        "You can also use the pop() method to remove an item, but this method will remove the last item. Remember that sets are unordered, so you will not know what item that gets removed.\n",
        "\n",
        "The return value of the pop() method is the removed item."
      ]
    },
    {
      "cell_type": "code",
      "metadata": {
        "id": "7EoSGRDXGVqK",
        "outputId": "8356d622-b30f-494f-8188-5c2c4b4b140a"
      },
      "source": [
        "thisset = {\"apple\", \"banana\", \"cherry\"}\n",
        "\n",
        "x = thisset.pop()\n",
        "\n",
        "print(x)\n",
        "\n",
        "print(thisset)"
      ],
      "execution_count": null,
      "outputs": [
        {
          "output_type": "stream",
          "text": [
            "apple\n",
            "{'banana', 'cherry'}\n"
          ],
          "name": "stdout"
        }
      ]
    },
    {
      "cell_type": "markdown",
      "metadata": {
        "id": "gzrs2NhbGVqL"
      },
      "source": [
        "The clear() method empties the set:"
      ]
    },
    {
      "cell_type": "code",
      "metadata": {
        "id": "rdr8P3LMGVqL",
        "outputId": "d467c6d1-543a-497a-bf69-be3b9630495d"
      },
      "source": [
        "thisset = {\"apple\", \"banana\", \"cherry\"}\n",
        "\n",
        "thisset.clear()\n",
        "\n",
        "print(thisset)\n"
      ],
      "execution_count": null,
      "outputs": [
        {
          "output_type": "stream",
          "text": [
            "set()\n"
          ],
          "name": "stdout"
        }
      ]
    },
    {
      "cell_type": "markdown",
      "metadata": {
        "id": "fJCIbZmxGVqM"
      },
      "source": [
        "The del keyword will delete the set completely:"
      ]
    },
    {
      "cell_type": "code",
      "metadata": {
        "id": "IMyBTkKjGVqM",
        "outputId": "3a4ffbeb-e599-43b4-c201-066a87e8b0ee"
      },
      "source": [
        "thisset = {\"apple\", \"banana\", \"cherry\"}\n",
        "print(thisset)\n",
        "del thisset\n",
        "\n",
        "print(thisset)"
      ],
      "execution_count": null,
      "outputs": [
        {
          "output_type": "stream",
          "text": [
            "{'apple', 'banana', 'cherry'}\n"
          ],
          "name": "stdout"
        },
        {
          "output_type": "error",
          "ename": "NameError",
          "evalue": "name 'thisset' is not defined",
          "traceback": [
            "\u001b[1;31m---------------------------------------------------------------------------\u001b[0m",
            "\u001b[1;31mNameError\u001b[0m                                 Traceback (most recent call last)",
            "\u001b[1;32m<ipython-input-33-27d0c5668cc8>\u001b[0m in \u001b[0;36m<module>\u001b[1;34m\u001b[0m\n\u001b[0;32m      3\u001b[0m \u001b[1;32mdel\u001b[0m \u001b[0mthisset\u001b[0m\u001b[1;33m\u001b[0m\u001b[1;33m\u001b[0m\u001b[0m\n\u001b[0;32m      4\u001b[0m \u001b[1;33m\u001b[0m\u001b[0m\n\u001b[1;32m----> 5\u001b[1;33m \u001b[0mprint\u001b[0m\u001b[1;33m(\u001b[0m\u001b[0mthisset\u001b[0m\u001b[1;33m)\u001b[0m\u001b[1;33m\u001b[0m\u001b[1;33m\u001b[0m\u001b[0m\n\u001b[0m",
            "\u001b[1;31mNameError\u001b[0m: name 'thisset' is not defined"
          ]
        }
      ]
    },
    {
      "cell_type": "markdown",
      "metadata": {
        "id": "xORjjfnUGVqN"
      },
      "source": [
        "Join Two Sets:\n",
        "\n",
        "There are several ways to join two or more sets in Python.\n",
        "\n",
        "You can use the union() method that returns a new set containing all items from both sets, or the update() method that inserts all the items from one set into another:"
      ]
    },
    {
      "cell_type": "code",
      "metadata": {
        "id": "T_YqlhdEGVqO",
        "outputId": "412dae3c-2deb-41f1-dd60-b2a78fc78959"
      },
      "source": [
        "set1 = {\"a\", \"b\" , \"c\"}\n",
        "set2 = {1, 2, 3}\n",
        "\n",
        "set3 = set1.union(set2)\n",
        "print(set3)"
      ],
      "execution_count": null,
      "outputs": [
        {
          "output_type": "stream",
          "text": [
            "{1, 2, 3, 'a', 'c', 'b'}\n"
          ],
          "name": "stdout"
        }
      ]
    },
    {
      "cell_type": "markdown",
      "metadata": {
        "id": "pdd5cn1-GVqO"
      },
      "source": [
        "Keep ONLY the Duplicates:\n",
        "\n",
        "The intersection_update() method will keep only the items that are present in both sets."
      ]
    },
    {
      "cell_type": "code",
      "metadata": {
        "id": "1bUCmkASGVqO",
        "outputId": "0d70820b-d5ef-41af-cba7-791f50c5c62f"
      },
      "source": [
        "x = {\"apple\", \"banana\", \"cherry\"}\n",
        "y = {\"google\", \"microsoft\", \"apple\"}\n",
        "\n",
        "x.intersection_update(y)\n",
        "\n",
        "print(x)"
      ],
      "execution_count": null,
      "outputs": [
        {
          "output_type": "stream",
          "text": [
            "{'apple'}\n"
          ],
          "name": "stdout"
        }
      ]
    },
    {
      "cell_type": "markdown",
      "metadata": {
        "id": "G6HgrAByGVqP"
      },
      "source": [
        "The intersection() method will return a new set, that only contains the items that are present in both sets."
      ]
    },
    {
      "cell_type": "code",
      "metadata": {
        "id": "iH_b4TezGVqP",
        "outputId": "c0c3051c-6dd9-41c2-b363-e2a58f4608e2"
      },
      "source": [
        "x = {\"apple\", \"banana\", \"cherry\"}\n",
        "y = {\"google\", \"microsoft\", \"apple\"}\n",
        "\n",
        "z = x.intersection(y)\n",
        "\n",
        "print(z)"
      ],
      "execution_count": null,
      "outputs": [
        {
          "output_type": "stream",
          "text": [
            "{'apple'}\n"
          ],
          "name": "stdout"
        }
      ]
    },
    {
      "cell_type": "code",
      "metadata": {
        "id": "vh8HEc-wGVqP"
      },
      "source": [
        ""
      ],
      "execution_count": null,
      "outputs": []
    }
  ]
}