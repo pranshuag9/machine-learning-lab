{
 "cells": [
  {
   "cell_type": "code",
   "execution_count": 5,
   "metadata": {},
   "outputs": [
    {
     "name": "stdout",
     "output_type": "stream",
     "text": [
      "Name:Pranshu Age:21 Contact:1234567890\n"
     ]
    }
   ],
   "source": [
    "class Person:\n",
    "    def __init__(self, name, age, contact):\n",
    "        self.name = name\n",
    "        self.age = age\n",
    "        self.contact = contact\n",
    "    def __str__(self):\n",
    "        return f\"Name:{self.name} Age:{self.age} Contact:{self.contact}\"\n",
    "person1 = Person(\"Pranshu\", 21, 1234567890)\n",
    "print(person1)"
   ]
  },
  {
   "cell_type": "code",
   "execution_count": 7,
   "metadata": {},
   "outputs": [
    {
     "name": "stdout",
     "output_type": "stream",
     "text": [
      "{'name': 'Pranshu', 'age': 21, 'contact': 1234567890}\n"
     ]
    }
   ],
   "source": [
    "person_dict = {\"name\":\"Pranshu\", \"age\":21, \"contact\":1234567890}\n",
    "print(person_dict)"
   ]
  },
  {
   "cell_type": "code",
   "execution_count": 9,
   "metadata": {},
   "outputs": [
    {
     "name": "stdout",
     "output_type": "stream",
     "text": [
      "Pranshu\n"
     ]
    }
   ],
   "source": [
    "print(person_dict[\"name\"])"
   ]
  },
  {
   "cell_type": "code",
   "execution_count": 10,
   "metadata": {},
   "outputs": [
    {
     "name": "stdout",
     "output_type": "stream",
     "text": [
      "Enter first number: 10\n",
      "Enter second number: 45\n",
      "45 is greater than 10\n"
     ]
    }
   ],
   "source": [
    "a= int(input(\"Enter first number: \"))\n",
    "b = int(input(\"Enter second number: \"))\n",
    "\n",
    "if b > a:\n",
    "  print(b,\"is greater than\",a)\n",
    "elif a == b:\n",
    "  print(a, \" and\", b, \"are equal\")\n",
    "elif b<a:\n",
    "    print(a, \"is greater then\",b)"
   ]
  },
  {
   "cell_type": "markdown",
   "metadata": {},
   "source": [
    "### WAP to check whether a number is odd or even"
   ]
  },
  {
   "cell_type": "code",
   "execution_count": 11,
   "metadata": {},
   "outputs": [
    {
     "name": "stdout",
     "output_type": "stream",
     "text": [
      "10\n",
      "Even\n"
     ]
    }
   ],
   "source": [
    "n = int(input())\n",
    "if n%2==0: print(\"Even\")\n",
    "else: print(\"Odd\")"
   ]
  },
  {
   "cell_type": "markdown",
   "metadata": {},
   "source": [
    "------------------"
   ]
  },
  {
   "cell_type": "code",
   "execution_count": null,
   "metadata": {},
   "outputs": [],
   "source": []
  }
 ],
 "metadata": {
  "kernelspec": {
   "display_name": "Python 3",
   "language": "python",
   "name": "python3"
  },
  "language_info": {
   "codemirror_mode": {
    "name": "ipython",
    "version": 3
   },
   "file_extension": ".py",
   "mimetype": "text/x-python",
   "name": "python",
   "nbconvert_exporter": "python",
   "pygments_lexer": "ipython3",
   "version": "3.7.4"
  }
 },
 "nbformat": 4,
 "nbformat_minor": 4
}
